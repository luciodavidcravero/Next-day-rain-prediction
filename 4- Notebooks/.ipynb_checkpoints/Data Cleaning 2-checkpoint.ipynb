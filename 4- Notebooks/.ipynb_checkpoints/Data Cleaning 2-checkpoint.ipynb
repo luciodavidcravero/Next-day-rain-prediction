{
 "cells": [
  {
   "cell_type": "markdown",
   "id": "d08b759c",
   "metadata": {},
   "source": [
    "## Rain prediction in Australia"
   ]
  },
  {
   "cell_type": "markdown",
   "id": "a326aeae",
   "metadata": {},
   "source": [
    "#### Import required libraries"
   ]
  },
  {
   "cell_type": "code",
   "execution_count": 65,
   "id": "5bf4efdf",
   "metadata": {},
   "outputs": [],
   "source": [
    "import pandas as pd\n",
    "import numpy as np\n",
    "import seaborn as sns\n",
    "import plotly.express as px\n",
    "import matplotlib.pyplot as plt\n",
    "from sklearn.svm import SVC\n",
    "from imblearn.over_sampling import SMOTE\n",
    "from sklearn.impute import SimpleImputer\n",
    "from sklearn.ensemble import VotingClassifier\n",
    "from sklearn.ensemble import RandomForestClassifier\n",
    "from sklearn.linear_model import LogisticRegression\n",
    "from sklearn.ensemble import GradientBoostingClassifier\n",
    "from sklearn.model_selection import train_test_split\n",
    "from sklearn.preprocessing import MinMaxScaler,OneHotEncoder, LabelEncoder\n",
    "from sklearn.metrics import accuracy_score,roc_auc_score,precision_score, recall_score, f1_score,ConfusionMatrixDisplay,classification_report"
   ]
  },
  {
   "cell_type": "markdown",
   "id": "408fa72b",
   "metadata": {},
   "source": [
    "<br>\n",
    "<br>\n",
    "<br>\n",
    "<br>\n",
    "<br>"
   ]
  },
  {
   "cell_type": "markdown",
   "id": "0d5047e1",
   "metadata": {},
   "source": [
    "#### Read dataset"
   ]
  },
  {
   "cell_type": "code",
   "execution_count": 66,
   "id": "5df197d2",
   "metadata": {},
   "outputs": [
    {
     "data": {
      "text/html": [
       "<div>\n",
       "<style scoped>\n",
       "    .dataframe tbody tr th:only-of-type {\n",
       "        vertical-align: middle;\n",
       "    }\n",
       "\n",
       "    .dataframe tbody tr th {\n",
       "        vertical-align: top;\n",
       "    }\n",
       "\n",
       "    .dataframe thead th {\n",
       "        text-align: right;\n",
       "    }\n",
       "</style>\n",
       "<table border=\"1\" class=\"dataframe\">\n",
       "  <thead>\n",
       "    <tr style=\"text-align: right;\">\n",
       "      <th></th>\n",
       "      <th>Location</th>\n",
       "      <th>MinTemp</th>\n",
       "      <th>MaxTemp</th>\n",
       "      <th>Rainfall</th>\n",
       "      <th>WindGustDir</th>\n",
       "      <th>WindGustSpeed</th>\n",
       "      <th>WindDir9am</th>\n",
       "      <th>WindDir3pm</th>\n",
       "      <th>WindSpeed9am</th>\n",
       "      <th>WindSpeed3pm</th>\n",
       "      <th>Humidity9am</th>\n",
       "      <th>Humidity3pm</th>\n",
       "      <th>Pressure9am</th>\n",
       "      <th>Pressure3pm</th>\n",
       "      <th>Temp9am</th>\n",
       "      <th>Temp3pm</th>\n",
       "      <th>RainToday</th>\n",
       "      <th>RainTomorrow</th>\n",
       "    </tr>\n",
       "  </thead>\n",
       "  <tbody>\n",
       "    <tr>\n",
       "      <th>0</th>\n",
       "      <td>Albury</td>\n",
       "      <td>13.4</td>\n",
       "      <td>22.9</td>\n",
       "      <td>0.6</td>\n",
       "      <td>W</td>\n",
       "      <td>44.0</td>\n",
       "      <td>W</td>\n",
       "      <td>WNW</td>\n",
       "      <td>20.0</td>\n",
       "      <td>24.0</td>\n",
       "      <td>71.0</td>\n",
       "      <td>22.0</td>\n",
       "      <td>1007.7</td>\n",
       "      <td>1007.1</td>\n",
       "      <td>16.9</td>\n",
       "      <td>21.8</td>\n",
       "      <td>0.0</td>\n",
       "      <td>0.0</td>\n",
       "    </tr>\n",
       "    <tr>\n",
       "      <th>1</th>\n",
       "      <td>Albury</td>\n",
       "      <td>7.4</td>\n",
       "      <td>25.1</td>\n",
       "      <td>0.0</td>\n",
       "      <td>WNW</td>\n",
       "      <td>44.0</td>\n",
       "      <td>NNW</td>\n",
       "      <td>WSW</td>\n",
       "      <td>4.0</td>\n",
       "      <td>22.0</td>\n",
       "      <td>44.0</td>\n",
       "      <td>25.0</td>\n",
       "      <td>1010.6</td>\n",
       "      <td>1007.8</td>\n",
       "      <td>17.2</td>\n",
       "      <td>24.3</td>\n",
       "      <td>0.0</td>\n",
       "      <td>0.0</td>\n",
       "    </tr>\n",
       "    <tr>\n",
       "      <th>2</th>\n",
       "      <td>Albury</td>\n",
       "      <td>12.9</td>\n",
       "      <td>25.7</td>\n",
       "      <td>0.0</td>\n",
       "      <td>WSW</td>\n",
       "      <td>46.0</td>\n",
       "      <td>W</td>\n",
       "      <td>WSW</td>\n",
       "      <td>19.0</td>\n",
       "      <td>26.0</td>\n",
       "      <td>38.0</td>\n",
       "      <td>30.0</td>\n",
       "      <td>1007.6</td>\n",
       "      <td>1008.7</td>\n",
       "      <td>21.0</td>\n",
       "      <td>23.2</td>\n",
       "      <td>0.0</td>\n",
       "      <td>0.0</td>\n",
       "    </tr>\n",
       "    <tr>\n",
       "      <th>3</th>\n",
       "      <td>Albury</td>\n",
       "      <td>9.2</td>\n",
       "      <td>28.0</td>\n",
       "      <td>0.0</td>\n",
       "      <td>NE</td>\n",
       "      <td>24.0</td>\n",
       "      <td>SE</td>\n",
       "      <td>E</td>\n",
       "      <td>11.0</td>\n",
       "      <td>9.0</td>\n",
       "      <td>45.0</td>\n",
       "      <td>16.0</td>\n",
       "      <td>1017.6</td>\n",
       "      <td>1012.8</td>\n",
       "      <td>18.1</td>\n",
       "      <td>26.5</td>\n",
       "      <td>0.0</td>\n",
       "      <td>0.0</td>\n",
       "    </tr>\n",
       "    <tr>\n",
       "      <th>4</th>\n",
       "      <td>Albury</td>\n",
       "      <td>17.5</td>\n",
       "      <td>32.3</td>\n",
       "      <td>1.0</td>\n",
       "      <td>W</td>\n",
       "      <td>41.0</td>\n",
       "      <td>ENE</td>\n",
       "      <td>NW</td>\n",
       "      <td>7.0</td>\n",
       "      <td>20.0</td>\n",
       "      <td>82.0</td>\n",
       "      <td>33.0</td>\n",
       "      <td>1010.8</td>\n",
       "      <td>1006.0</td>\n",
       "      <td>17.8</td>\n",
       "      <td>29.7</td>\n",
       "      <td>0.0</td>\n",
       "      <td>0.0</td>\n",
       "    </tr>\n",
       "  </tbody>\n",
       "</table>\n",
       "</div>"
      ],
      "text/plain": [
       "  Location  MinTemp  MaxTemp  Rainfall WindGustDir  WindGustSpeed WindDir9am  \\\n",
       "0   Albury     13.4     22.9       0.6           W           44.0          W   \n",
       "1   Albury      7.4     25.1       0.0         WNW           44.0        NNW   \n",
       "2   Albury     12.9     25.7       0.0         WSW           46.0          W   \n",
       "3   Albury      9.2     28.0       0.0          NE           24.0         SE   \n",
       "4   Albury     17.5     32.3       1.0           W           41.0        ENE   \n",
       "\n",
       "  WindDir3pm  WindSpeed9am  WindSpeed3pm  Humidity9am  Humidity3pm  \\\n",
       "0        WNW          20.0          24.0         71.0         22.0   \n",
       "1        WSW           4.0          22.0         44.0         25.0   \n",
       "2        WSW          19.0          26.0         38.0         30.0   \n",
       "3          E          11.0           9.0         45.0         16.0   \n",
       "4         NW           7.0          20.0         82.0         33.0   \n",
       "\n",
       "   Pressure9am  Pressure3pm  Temp9am  Temp3pm  RainToday  RainTomorrow  \n",
       "0       1007.7       1007.1     16.9     21.8        0.0           0.0  \n",
       "1       1010.6       1007.8     17.2     24.3        0.0           0.0  \n",
       "2       1007.6       1008.7     21.0     23.2        0.0           0.0  \n",
       "3       1017.6       1012.8     18.1     26.5        0.0           0.0  \n",
       "4       1010.8       1006.0     17.8     29.7        0.0           0.0  "
      ]
     },
     "execution_count": 66,
     "metadata": {},
     "output_type": "execute_result"
    }
   ],
   "source": [
    "dataframe_clean_1 = pd.read_csv(r\"C:\\Users\\Lucio\\Documents\\Github\\Next-day-rain-prediction\\1- Data\\2- Processed\\dataframe_clean_1.csv\", index_col=0)\n",
    "dataframe_clean_1.head()"
   ]
  },
  {
   "cell_type": "markdown",
   "id": "59c7d8c7",
   "metadata": {},
   "source": [
    "dataframe_clean_1 characteristics:\n",
    "- RainToday and RainTomorrow columns encoded from No/Yes to 0/1\n",
    "- Drop columns with NaN percentage above 35%"
   ]
  },
  {
   "cell_type": "markdown",
   "id": "57979213",
   "metadata": {},
   "source": [
    "<br>\n",
    "<br>\n",
    "<br>\n",
    "<br>\n",
    "<br>"
   ]
  },
  {
   "cell_type": "markdown",
   "id": "2168c544",
   "metadata": {},
   "source": [
    "### Correlations between variables"
   ]
  },
  {
   "cell_type": "code",
   "execution_count": 67,
   "id": "0e6bc2a4",
   "metadata": {},
   "outputs": [],
   "source": [
    "#sns.pairplot(dataframe_clean_1)\n",
    "#plt.show()"
   ]
  },
  {
   "cell_type": "code",
   "execution_count": 68,
   "id": "759ad10e",
   "metadata": {},
   "outputs": [
    {
     "data": {
      "text/html": [
       "<div>\n",
       "<style scoped>\n",
       "    .dataframe tbody tr th:only-of-type {\n",
       "        vertical-align: middle;\n",
       "    }\n",
       "\n",
       "    .dataframe tbody tr th {\n",
       "        vertical-align: top;\n",
       "    }\n",
       "\n",
       "    .dataframe thead th {\n",
       "        text-align: right;\n",
       "    }\n",
       "</style>\n",
       "<table border=\"1\" class=\"dataframe\">\n",
       "  <thead>\n",
       "    <tr style=\"text-align: right;\">\n",
       "      <th></th>\n",
       "      <th>MinTemp</th>\n",
       "      <th>MaxTemp</th>\n",
       "      <th>Rainfall</th>\n",
       "      <th>WindGustSpeed</th>\n",
       "      <th>WindSpeed9am</th>\n",
       "      <th>WindSpeed3pm</th>\n",
       "      <th>Humidity9am</th>\n",
       "      <th>Humidity3pm</th>\n",
       "      <th>Pressure9am</th>\n",
       "      <th>Pressure3pm</th>\n",
       "      <th>Temp9am</th>\n",
       "      <th>Temp3pm</th>\n",
       "      <th>RainToday</th>\n",
       "      <th>RainTomorrow</th>\n",
       "    </tr>\n",
       "  </thead>\n",
       "  <tbody>\n",
       "    <tr>\n",
       "      <th>MinTemp</th>\n",
       "      <td>1.000000</td>\n",
       "      <td>0.736555</td>\n",
       "      <td>0.103938</td>\n",
       "      <td>0.177415</td>\n",
       "      <td>0.175064</td>\n",
       "      <td>0.175173</td>\n",
       "      <td>-0.232899</td>\n",
       "      <td>0.006089</td>\n",
       "      <td>-0.450970</td>\n",
       "      <td>-0.461292</td>\n",
       "      <td>0.901821</td>\n",
       "      <td>0.708906</td>\n",
       "      <td>0.055836</td>\n",
       "      <td>0.083936</td>\n",
       "    </tr>\n",
       "    <tr>\n",
       "      <th>MaxTemp</th>\n",
       "      <td>0.736555</td>\n",
       "      <td>1.000000</td>\n",
       "      <td>-0.074992</td>\n",
       "      <td>0.067615</td>\n",
       "      <td>0.014450</td>\n",
       "      <td>0.050300</td>\n",
       "      <td>-0.504110</td>\n",
       "      <td>-0.508855</td>\n",
       "      <td>-0.332061</td>\n",
       "      <td>-0.427167</td>\n",
       "      <td>0.887210</td>\n",
       "      <td>0.984503</td>\n",
       "      <td>-0.229192</td>\n",
       "      <td>-0.159237</td>\n",
       "    </tr>\n",
       "    <tr>\n",
       "      <th>Rainfall</th>\n",
       "      <td>0.103938</td>\n",
       "      <td>-0.074992</td>\n",
       "      <td>1.000000</td>\n",
       "      <td>0.133659</td>\n",
       "      <td>0.087338</td>\n",
       "      <td>0.057887</td>\n",
       "      <td>0.224405</td>\n",
       "      <td>0.255755</td>\n",
       "      <td>-0.168154</td>\n",
       "      <td>-0.126534</td>\n",
       "      <td>0.011192</td>\n",
       "      <td>-0.079657</td>\n",
       "      <td>0.501516</td>\n",
       "      <td>0.239032</td>\n",
       "    </tr>\n",
       "    <tr>\n",
       "      <th>WindGustSpeed</th>\n",
       "      <td>0.177415</td>\n",
       "      <td>0.067615</td>\n",
       "      <td>0.133659</td>\n",
       "      <td>1.000000</td>\n",
       "      <td>0.605303</td>\n",
       "      <td>0.686307</td>\n",
       "      <td>-0.215070</td>\n",
       "      <td>-0.026327</td>\n",
       "      <td>-0.458744</td>\n",
       "      <td>-0.413749</td>\n",
       "      <td>0.150150</td>\n",
       "      <td>0.032748</td>\n",
       "      <td>0.155761</td>\n",
       "      <td>0.234010</td>\n",
       "    </tr>\n",
       "    <tr>\n",
       "      <th>WindSpeed9am</th>\n",
       "      <td>0.175064</td>\n",
       "      <td>0.014450</td>\n",
       "      <td>0.087338</td>\n",
       "      <td>0.605303</td>\n",
       "      <td>1.000000</td>\n",
       "      <td>0.519547</td>\n",
       "      <td>-0.270858</td>\n",
       "      <td>-0.031614</td>\n",
       "      <td>-0.228743</td>\n",
       "      <td>-0.175817</td>\n",
       "      <td>0.128545</td>\n",
       "      <td>0.004569</td>\n",
       "      <td>0.103057</td>\n",
       "      <td>0.090995</td>\n",
       "    </tr>\n",
       "    <tr>\n",
       "      <th>WindSpeed3pm</th>\n",
       "      <td>0.175173</td>\n",
       "      <td>0.050300</td>\n",
       "      <td>0.057887</td>\n",
       "      <td>0.686307</td>\n",
       "      <td>0.519547</td>\n",
       "      <td>1.000000</td>\n",
       "      <td>-0.145525</td>\n",
       "      <td>0.016432</td>\n",
       "      <td>-0.296351</td>\n",
       "      <td>-0.255439</td>\n",
       "      <td>0.163030</td>\n",
       "      <td>0.027778</td>\n",
       "      <td>0.080591</td>\n",
       "      <td>0.087817</td>\n",
       "    </tr>\n",
       "    <tr>\n",
       "      <th>Humidity9am</th>\n",
       "      <td>-0.232899</td>\n",
       "      <td>-0.504110</td>\n",
       "      <td>0.224405</td>\n",
       "      <td>-0.215070</td>\n",
       "      <td>-0.270858</td>\n",
       "      <td>-0.145525</td>\n",
       "      <td>1.000000</td>\n",
       "      <td>0.666949</td>\n",
       "      <td>0.139442</td>\n",
       "      <td>0.186858</td>\n",
       "      <td>-0.471354</td>\n",
       "      <td>-0.498399</td>\n",
       "      <td>0.353708</td>\n",
       "      <td>0.257161</td>\n",
       "    </tr>\n",
       "    <tr>\n",
       "      <th>Humidity3pm</th>\n",
       "      <td>0.006089</td>\n",
       "      <td>-0.508855</td>\n",
       "      <td>0.255755</td>\n",
       "      <td>-0.026327</td>\n",
       "      <td>-0.031614</td>\n",
       "      <td>0.016432</td>\n",
       "      <td>0.666949</td>\n",
       "      <td>1.000000</td>\n",
       "      <td>-0.027544</td>\n",
       "      <td>0.051997</td>\n",
       "      <td>-0.221019</td>\n",
       "      <td>-0.557841</td>\n",
       "      <td>0.379020</td>\n",
       "      <td>0.446160</td>\n",
       "    </tr>\n",
       "    <tr>\n",
       "      <th>Pressure9am</th>\n",
       "      <td>-0.450970</td>\n",
       "      <td>-0.332061</td>\n",
       "      <td>-0.168154</td>\n",
       "      <td>-0.458744</td>\n",
       "      <td>-0.228743</td>\n",
       "      <td>-0.296351</td>\n",
       "      <td>0.139442</td>\n",
       "      <td>-0.027544</td>\n",
       "      <td>1.000000</td>\n",
       "      <td>0.961326</td>\n",
       "      <td>-0.422556</td>\n",
       "      <td>-0.286770</td>\n",
       "      <td>-0.189781</td>\n",
       "      <td>-0.246371</td>\n",
       "    </tr>\n",
       "    <tr>\n",
       "      <th>Pressure3pm</th>\n",
       "      <td>-0.461292</td>\n",
       "      <td>-0.427167</td>\n",
       "      <td>-0.126534</td>\n",
       "      <td>-0.413749</td>\n",
       "      <td>-0.175817</td>\n",
       "      <td>-0.255439</td>\n",
       "      <td>0.186858</td>\n",
       "      <td>0.051997</td>\n",
       "      <td>0.961326</td>\n",
       "      <td>1.000000</td>\n",
       "      <td>-0.470187</td>\n",
       "      <td>-0.389548</td>\n",
       "      <td>-0.106130</td>\n",
       "      <td>-0.226031</td>\n",
       "    </tr>\n",
       "    <tr>\n",
       "      <th>Temp9am</th>\n",
       "      <td>0.901821</td>\n",
       "      <td>0.887210</td>\n",
       "      <td>0.011192</td>\n",
       "      <td>0.150150</td>\n",
       "      <td>0.128545</td>\n",
       "      <td>0.163030</td>\n",
       "      <td>-0.471354</td>\n",
       "      <td>-0.221019</td>\n",
       "      <td>-0.422556</td>\n",
       "      <td>-0.470187</td>\n",
       "      <td>1.000000</td>\n",
       "      <td>0.860591</td>\n",
       "      <td>-0.096865</td>\n",
       "      <td>-0.025691</td>\n",
       "    </tr>\n",
       "    <tr>\n",
       "      <th>Temp3pm</th>\n",
       "      <td>0.708906</td>\n",
       "      <td>0.984503</td>\n",
       "      <td>-0.079657</td>\n",
       "      <td>0.032748</td>\n",
       "      <td>0.004569</td>\n",
       "      <td>0.027778</td>\n",
       "      <td>-0.498399</td>\n",
       "      <td>-0.557841</td>\n",
       "      <td>-0.286770</td>\n",
       "      <td>-0.389548</td>\n",
       "      <td>0.860591</td>\n",
       "      <td>1.000000</td>\n",
       "      <td>-0.235340</td>\n",
       "      <td>-0.192424</td>\n",
       "    </tr>\n",
       "    <tr>\n",
       "      <th>RainToday</th>\n",
       "      <td>0.055836</td>\n",
       "      <td>-0.229192</td>\n",
       "      <td>0.501516</td>\n",
       "      <td>0.155761</td>\n",
       "      <td>0.103057</td>\n",
       "      <td>0.080591</td>\n",
       "      <td>0.353708</td>\n",
       "      <td>0.379020</td>\n",
       "      <td>-0.189781</td>\n",
       "      <td>-0.106130</td>\n",
       "      <td>-0.096865</td>\n",
       "      <td>-0.235340</td>\n",
       "      <td>1.000000</td>\n",
       "      <td>0.313097</td>\n",
       "    </tr>\n",
       "    <tr>\n",
       "      <th>RainTomorrow</th>\n",
       "      <td>0.083936</td>\n",
       "      <td>-0.159237</td>\n",
       "      <td>0.239032</td>\n",
       "      <td>0.234010</td>\n",
       "      <td>0.090995</td>\n",
       "      <td>0.087817</td>\n",
       "      <td>0.257161</td>\n",
       "      <td>0.446160</td>\n",
       "      <td>-0.246371</td>\n",
       "      <td>-0.226031</td>\n",
       "      <td>-0.025691</td>\n",
       "      <td>-0.192424</td>\n",
       "      <td>0.313097</td>\n",
       "      <td>1.000000</td>\n",
       "    </tr>\n",
       "  </tbody>\n",
       "</table>\n",
       "</div>"
      ],
      "text/plain": [
       "                MinTemp   MaxTemp  Rainfall  WindGustSpeed  WindSpeed9am  \\\n",
       "MinTemp        1.000000  0.736555  0.103938       0.177415      0.175064   \n",
       "MaxTemp        0.736555  1.000000 -0.074992       0.067615      0.014450   \n",
       "Rainfall       0.103938 -0.074992  1.000000       0.133659      0.087338   \n",
       "WindGustSpeed  0.177415  0.067615  0.133659       1.000000      0.605303   \n",
       "WindSpeed9am   0.175064  0.014450  0.087338       0.605303      1.000000   \n",
       "WindSpeed3pm   0.175173  0.050300  0.057887       0.686307      0.519547   \n",
       "Humidity9am   -0.232899 -0.504110  0.224405      -0.215070     -0.270858   \n",
       "Humidity3pm    0.006089 -0.508855  0.255755      -0.026327     -0.031614   \n",
       "Pressure9am   -0.450970 -0.332061 -0.168154      -0.458744     -0.228743   \n",
       "Pressure3pm   -0.461292 -0.427167 -0.126534      -0.413749     -0.175817   \n",
       "Temp9am        0.901821  0.887210  0.011192       0.150150      0.128545   \n",
       "Temp3pm        0.708906  0.984503 -0.079657       0.032748      0.004569   \n",
       "RainToday      0.055836 -0.229192  0.501516       0.155761      0.103057   \n",
       "RainTomorrow   0.083936 -0.159237  0.239032       0.234010      0.090995   \n",
       "\n",
       "               WindSpeed3pm  Humidity9am  Humidity3pm  Pressure9am  \\\n",
       "MinTemp            0.175173    -0.232899     0.006089    -0.450970   \n",
       "MaxTemp            0.050300    -0.504110    -0.508855    -0.332061   \n",
       "Rainfall           0.057887     0.224405     0.255755    -0.168154   \n",
       "WindGustSpeed      0.686307    -0.215070    -0.026327    -0.458744   \n",
       "WindSpeed9am       0.519547    -0.270858    -0.031614    -0.228743   \n",
       "WindSpeed3pm       1.000000    -0.145525     0.016432    -0.296351   \n",
       "Humidity9am       -0.145525     1.000000     0.666949     0.139442   \n",
       "Humidity3pm        0.016432     0.666949     1.000000    -0.027544   \n",
       "Pressure9am       -0.296351     0.139442    -0.027544     1.000000   \n",
       "Pressure3pm       -0.255439     0.186858     0.051997     0.961326   \n",
       "Temp9am            0.163030    -0.471354    -0.221019    -0.422556   \n",
       "Temp3pm            0.027778    -0.498399    -0.557841    -0.286770   \n",
       "RainToday          0.080591     0.353708     0.379020    -0.189781   \n",
       "RainTomorrow       0.087817     0.257161     0.446160    -0.246371   \n",
       "\n",
       "               Pressure3pm   Temp9am   Temp3pm  RainToday  RainTomorrow  \n",
       "MinTemp          -0.461292  0.901821  0.708906   0.055836      0.083936  \n",
       "MaxTemp          -0.427167  0.887210  0.984503  -0.229192     -0.159237  \n",
       "Rainfall         -0.126534  0.011192 -0.079657   0.501516      0.239032  \n",
       "WindGustSpeed    -0.413749  0.150150  0.032748   0.155761      0.234010  \n",
       "WindSpeed9am     -0.175817  0.128545  0.004569   0.103057      0.090995  \n",
       "WindSpeed3pm     -0.255439  0.163030  0.027778   0.080591      0.087817  \n",
       "Humidity9am       0.186858 -0.471354 -0.498399   0.353708      0.257161  \n",
       "Humidity3pm       0.051997 -0.221019 -0.557841   0.379020      0.446160  \n",
       "Pressure9am       0.961326 -0.422556 -0.286770  -0.189781     -0.246371  \n",
       "Pressure3pm       1.000000 -0.470187 -0.389548  -0.106130     -0.226031  \n",
       "Temp9am          -0.470187  1.000000  0.860591  -0.096865     -0.025691  \n",
       "Temp3pm          -0.389548  0.860591  1.000000  -0.235340     -0.192424  \n",
       "RainToday        -0.106130 -0.096865 -0.235340   1.000000      0.313097  \n",
       "RainTomorrow     -0.226031 -0.025691 -0.192424   0.313097      1.000000  "
      ]
     },
     "execution_count": 68,
     "metadata": {},
     "output_type": "execute_result"
    }
   ],
   "source": [
    "#Check correlation between numerical variables\n",
    "correlations = dataframe_clean_1.corr()\n",
    "correlations"
   ]
  },
  {
   "cell_type": "code",
   "execution_count": 69,
   "id": "b2f849a8",
   "metadata": {},
   "outputs": [
    {
     "data": {
      "image/png": "[encoded data removed]",
      "text/plain": [
       "<Figure size 720x720 with 2 Axes>"
      ]
     },
     "metadata": {
      "needs_background": "light"
     },
     "output_type": "display_data"
    }
   ],
   "source": [
    "plt.figure(figsize=(10,10))\n",
    "sns.heatmap(correlations, annot=True, cmap=\"Greens\", fmt=\".2f\")\n",
    "plt.show()"
   ]
  },
  {
   "cell_type": "markdown",
   "id": "90ec5075",
   "metadata": {},
   "source": [
    "High correlations between:\n",
    "- MinTemp & Temp9am\n",
    "- MaxTemp, Temp9am & Temp3pm\n",
    "- Temp9am & Temp3pm\n",
    "- Pressure9am & Pressure3pm"
   ]
  },
  {
   "cell_type": "markdown",
   "id": "cf09b7c2",
   "metadata": {},
   "source": [
    "<br>\n",
    "<br>\n",
    "<br>\n",
    "<br>\n",
    "<br>"
   ]
  },
  {
   "cell_type": "markdown",
   "id": "57fb22f2",
   "metadata": {},
   "source": [
    "### Handling missing values"
   ]
  },
  {
   "cell_type": "code",
   "execution_count": 70,
   "id": "5d53f2c2",
   "metadata": {},
   "outputs": [],
   "source": [
    "def percentage_nan(data: pd.DataFrame):\n",
    "    \"\"\"\n",
    "    This function calculates the percentage \n",
    "    of NaN values within all of the columns \n",
    "    of a dataframe.\n",
    "    \"\"\"\n",
    "    \n",
    "    columns = list(data.columns)\n",
    "    percentages = {col:0 for col in columns}\n",
    "    \n",
    "    for col in columns:\n",
    "        percentages[col] = round(100*data[col].isna().sum()/len(data.index), 2)\n",
    "    \n",
    "    return percentages"
   ]
  },
  {
   "cell_type": "code",
   "execution_count": 71,
   "id": "059794e4",
   "metadata": {},
   "outputs": [
    {
     "data": {
      "text/plain": [
       "{'Location': 0.0,\n",
       " 'MinTemp': 1.02,\n",
       " 'MaxTemp': 0.87,\n",
       " 'Rainfall': 2.24,\n",
       " 'WindGustDir': 7.1,\n",
       " 'WindGustSpeed': 7.06,\n",
       " 'WindDir9am': 7.26,\n",
       " 'WindDir3pm': 2.91,\n",
       " 'WindSpeed9am': 1.21,\n",
       " 'WindSpeed3pm': 2.11,\n",
       " 'Humidity9am': 1.82,\n",
       " 'Humidity3pm': 3.1,\n",
       " 'Pressure9am': 10.36,\n",
       " 'Pressure3pm': 10.33,\n",
       " 'Temp9am': 1.21,\n",
       " 'Temp3pm': 2.48,\n",
       " 'RainToday': 2.24,\n",
       " 'RainTomorrow': 2.25}"
      ]
     },
     "execution_count": 71,
     "metadata": {},
     "output_type": "execute_result"
    }
   ],
   "source": [
    "missing_vals_percentages = percentage_nan(dataframe_clean_1)\n",
    "missing_vals_percentages"
   ]
  },
  {
   "cell_type": "markdown",
   "id": "f2e2f7d4",
   "metadata": {},
   "source": [
    "#### Getting numerical and categorical columns"
   ]
  },
  {
   "cell_type": "code",
   "execution_count": 72,
   "id": "58983f84",
   "metadata": {},
   "outputs": [],
   "source": [
    "def get_num_cat_columns(dataframe):\n",
    "    categorical_cols=dataframe.select_dtypes(include=\"object\").columns\n",
    "    numerical_cols=dataframe.select_dtypes(exclude=\"object\").columns\n",
    "    '''\n",
    "    This function saves numerical and categorical columns in 2 different dataframes\n",
    "    '''\n",
    "    return categorical_cols, numerical_cols"
   ]
  },
  {
   "cell_type": "code",
   "execution_count": 73,
   "id": "e03ef994",
   "metadata": {},
   "outputs": [],
   "source": [
    "categorical_cols, numerical_cols= get_num_cat_columns(dataframe_clean_1)"
   ]
  },
  {
   "cell_type": "markdown",
   "id": "925ede75",
   "metadata": {},
   "source": [
    "#### Handling missing values in numerical columns"
   ]
  },
  {
   "cell_type": "code",
   "execution_count": 74,
   "id": "d941f396",
   "metadata": {},
   "outputs": [
    {
     "data": {
      "text/plain": [
       "Index(['MinTemp', 'MaxTemp', 'Rainfall', 'WindGustSpeed', 'WindSpeed9am',\n",
       "       'WindSpeed3pm', 'Humidity9am', 'Humidity3pm', 'Pressure9am',\n",
       "       'Pressure3pm', 'Temp9am', 'Temp3pm', 'RainToday', 'RainTomorrow'],\n",
       "      dtype='object')"
      ]
     },
     "execution_count": 74,
     "metadata": {},
     "output_type": "execute_result"
    }
   ],
   "source": [
    "numerical_cols"
   ]
  },
  {
   "cell_type": "markdown",
   "id": "56eb2a42",
   "metadata": {},
   "source": [
    "'''\n",
    "SimpleImputer replace missing values using a descriptive statistic (e.g. mean, median, or most frequent) along each column\n",
    "Other more complex replacing methods can be used (e.g. KNNImputer-Nearest neighbors imputation-\n",
    "or IterativeImputer-Multivariate feature imputation)\n",
    "'''\n",
    "imputer= SimpleImputer(missing_values=np.nan, strategy=\"median\", fill_value=None)\n",
    "for col in numerical_cols:\n",
    "    dataframe[col]= imputer.fit_transform(dataframe[[col]])"
   ]
  },
  {
   "cell_type": "markdown",
   "id": "6cf3a537",
   "metadata": {},
   "source": [
    "#### Handling missing values in categorical columns"
   ]
  },
  {
   "cell_type": "code",
   "execution_count": 75,
   "id": "c0bbefe0",
   "metadata": {},
   "outputs": [
    {
     "data": {
      "text/plain": [
       "Index(['Location', 'WindGustDir', 'WindDir9am', 'WindDir3pm'], dtype='object')"
      ]
     },
     "execution_count": 75,
     "metadata": {},
     "output_type": "execute_result"
    }
   ],
   "source": [
    "categorical_cols"
   ]
  },
  {
   "cell_type": "markdown",
   "id": "414d0ab4",
   "metadata": {},
   "source": [
    "#Filling the missing values for categorical variables with mode\n",
    "#Location column doesn't have NaN values\n",
    "dataframe['WindGustDir'] = dataframe['WindGustDir'].fillna(dataframe['WindGustDir'].mode()[0])\n",
    "dataframe['WindDir9am'] = dataframe['WindDir9am'].fillna(dataframe['WindDir9am'].mode()[0])\n",
    "dataframe['WindDir3pm'] = dataframe['WindDir3pm'].fillna(dataframe['WindDir3pm'].mode()[0])\n",
    "dataframe['RainToday']=dataframe['RainToday'].fillna(dataframe['RainToday'].mode()[0])\n",
    "dataframe['RainTomorrow']=dataframe['RainTomorrow'].fillna(dataframe['RainTomorrow'].mode()[0])"
   ]
  },
  {
   "cell_type": "markdown",
   "id": "8441a2f6",
   "metadata": {},
   "source": [
    "<br>\n",
    "<br>\n",
    "<br>\n",
    "<br>\n",
    "<br>"
   ]
  },
  {
   "cell_type": "markdown",
   "id": "2b7e566e",
   "metadata": {},
   "source": [
    "#### Look for irrelevant columns"
   ]
  },
  {
   "cell_type": "code",
   "execution_count": 76,
   "id": "bf93daaa",
   "metadata": {},
   "outputs": [
    {
     "data": {
      "text/plain": [
       "Temp9am          0.025691\n",
       "MinTemp          0.083936\n",
       "WindSpeed3pm     0.087817\n",
       "WindSpeed9am     0.090995\n",
       "MaxTemp          0.159237\n",
       "Temp3pm          0.192424\n",
       "Pressure3pm      0.226031\n",
       "WindGustSpeed    0.234010\n",
       "Rainfall         0.239032\n",
       "Pressure9am      0.246371\n",
       "Humidity9am      0.257161\n",
       "RainToday        0.313097\n",
       "Humidity3pm      0.446160\n",
       "RainTomorrow     1.000000\n",
       "Name: RainTomorrow, dtype: float64"
      ]
     },
     "execution_count": 76,
     "metadata": {},
     "output_type": "execute_result"
    }
   ],
   "source": [
    "target_correlations = correlations[\"RainTomorrow\"].apply(lambda corr: abs(corr)).sort_values()\n",
    "target_correlations"
   ]
  },
  {
   "cell_type": "code",
   "execution_count": 77,
   "id": "3011b537",
   "metadata": {},
   "outputs": [
    {
     "data": {
      "text/plain": [
       "Temp9am         0.025691\n",
       "MinTemp         0.083936\n",
       "WindSpeed3pm    0.087817\n",
       "WindSpeed9am    0.090995\n",
       "Name: RainTomorrow, dtype: float64"
      ]
     },
     "execution_count": 77,
     "metadata": {},
     "output_type": "execute_result"
    }
   ],
   "source": [
    "irrelevant_columns = target_correlations.nsmallest(4)\n",
    "irrelevant_columns"
   ]
  },
  {
   "cell_type": "code",
   "execution_count": 78,
   "id": "ebdb3f05",
   "metadata": {},
   "outputs": [],
   "source": [
    "irrelevant_columns = list(irrelevant_columns.index)"
   ]
  },
  {
   "cell_type": "code",
   "execution_count": 79,
   "id": "b533fce8",
   "metadata": {},
   "outputs": [
    {
     "data": {
      "text/html": [
       "<div>\n",
       "<style scoped>\n",
       "    .dataframe tbody tr th:only-of-type {\n",
       "        vertical-align: middle;\n",
       "    }\n",
       "\n",
       "    .dataframe tbody tr th {\n",
       "        vertical-align: top;\n",
       "    }\n",
       "\n",
       "    .dataframe thead th {\n",
       "        text-align: right;\n",
       "    }\n",
       "</style>\n",
       "<table border=\"1\" class=\"dataframe\">\n",
       "  <thead>\n",
       "    <tr style=\"text-align: right;\">\n",
       "      <th></th>\n",
       "      <th>Location</th>\n",
       "      <th>MaxTemp</th>\n",
       "      <th>Rainfall</th>\n",
       "      <th>WindGustDir</th>\n",
       "      <th>WindGustSpeed</th>\n",
       "      <th>WindDir9am</th>\n",
       "      <th>WindDir3pm</th>\n",
       "      <th>Humidity9am</th>\n",
       "      <th>Humidity3pm</th>\n",
       "      <th>Pressure9am</th>\n",
       "      <th>Pressure3pm</th>\n",
       "      <th>Temp3pm</th>\n",
       "      <th>RainToday</th>\n",
       "      <th>RainTomorrow</th>\n",
       "    </tr>\n",
       "  </thead>\n",
       "  <tbody>\n",
       "    <tr>\n",
       "      <th>0</th>\n",
       "      <td>Albury</td>\n",
       "      <td>22.9</td>\n",
       "      <td>0.6</td>\n",
       "      <td>W</td>\n",
       "      <td>44.0</td>\n",
       "      <td>W</td>\n",
       "      <td>WNW</td>\n",
       "      <td>71.0</td>\n",
       "      <td>22.0</td>\n",
       "      <td>1007.7</td>\n",
       "      <td>1007.1</td>\n",
       "      <td>21.8</td>\n",
       "      <td>0.0</td>\n",
       "      <td>0.0</td>\n",
       "    </tr>\n",
       "    <tr>\n",
       "      <th>1</th>\n",
       "      <td>Albury</td>\n",
       "      <td>25.1</td>\n",
       "      <td>0.0</td>\n",
       "      <td>WNW</td>\n",
       "      <td>44.0</td>\n",
       "      <td>NNW</td>\n",
       "      <td>WSW</td>\n",
       "      <td>44.0</td>\n",
       "      <td>25.0</td>\n",
       "      <td>1010.6</td>\n",
       "      <td>1007.8</td>\n",
       "      <td>24.3</td>\n",
       "      <td>0.0</td>\n",
       "      <td>0.0</td>\n",
       "    </tr>\n",
       "    <tr>\n",
       "      <th>2</th>\n",
       "      <td>Albury</td>\n",
       "      <td>25.7</td>\n",
       "      <td>0.0</td>\n",
       "      <td>WSW</td>\n",
       "      <td>46.0</td>\n",
       "      <td>W</td>\n",
       "      <td>WSW</td>\n",
       "      <td>38.0</td>\n",
       "      <td>30.0</td>\n",
       "      <td>1007.6</td>\n",
       "      <td>1008.7</td>\n",
       "      <td>23.2</td>\n",
       "      <td>0.0</td>\n",
       "      <td>0.0</td>\n",
       "    </tr>\n",
       "    <tr>\n",
       "      <th>3</th>\n",
       "      <td>Albury</td>\n",
       "      <td>28.0</td>\n",
       "      <td>0.0</td>\n",
       "      <td>NE</td>\n",
       "      <td>24.0</td>\n",
       "      <td>SE</td>\n",
       "      <td>E</td>\n",
       "      <td>45.0</td>\n",
       "      <td>16.0</td>\n",
       "      <td>1017.6</td>\n",
       "      <td>1012.8</td>\n",
       "      <td>26.5</td>\n",
       "      <td>0.0</td>\n",
       "      <td>0.0</td>\n",
       "    </tr>\n",
       "    <tr>\n",
       "      <th>4</th>\n",
       "      <td>Albury</td>\n",
       "      <td>32.3</td>\n",
       "      <td>1.0</td>\n",
       "      <td>W</td>\n",
       "      <td>41.0</td>\n",
       "      <td>ENE</td>\n",
       "      <td>NW</td>\n",
       "      <td>82.0</td>\n",
       "      <td>33.0</td>\n",
       "      <td>1010.8</td>\n",
       "      <td>1006.0</td>\n",
       "      <td>29.7</td>\n",
       "      <td>0.0</td>\n",
       "      <td>0.0</td>\n",
       "    </tr>\n",
       "  </tbody>\n",
       "</table>\n",
       "</div>"
      ],
      "text/plain": [
       "  Location  MaxTemp  Rainfall WindGustDir  WindGustSpeed WindDir9am  \\\n",
       "0   Albury     22.9       0.6           W           44.0          W   \n",
       "1   Albury     25.1       0.0         WNW           44.0        NNW   \n",
       "2   Albury     25.7       0.0         WSW           46.0          W   \n",
       "3   Albury     28.0       0.0          NE           24.0         SE   \n",
       "4   Albury     32.3       1.0           W           41.0        ENE   \n",
       "\n",
       "  WindDir3pm  Humidity9am  Humidity3pm  Pressure9am  Pressure3pm  Temp3pm  \\\n",
       "0        WNW         71.0         22.0       1007.7       1007.1     21.8   \n",
       "1        WSW         44.0         25.0       1010.6       1007.8     24.3   \n",
       "2        WSW         38.0         30.0       1007.6       1008.7     23.2   \n",
       "3          E         45.0         16.0       1017.6       1012.8     26.5   \n",
       "4         NW         82.0         33.0       1010.8       1006.0     29.7   \n",
       "\n",
       "   RainToday  RainTomorrow  \n",
       "0        0.0           0.0  \n",
       "1        0.0           0.0  \n",
       "2        0.0           0.0  \n",
       "3        0.0           0.0  \n",
       "4        0.0           0.0  "
      ]
     },
     "execution_count": 79,
     "metadata": {},
     "output_type": "execute_result"
    }
   ],
   "source": [
    "dataframe_clean_2 = dataframe_clean_1.drop(columns=irrelevant_columns)\n",
    "dataframe_clean_2.head()"
   ]
  },
  {
   "cell_type": "markdown",
   "id": "2c5def8c",
   "metadata": {},
   "source": [
    "#### Check NaN percentages again"
   ]
  },
  {
   "cell_type": "code",
   "execution_count": 80,
   "id": "5a939917",
   "metadata": {},
   "outputs": [
    {
     "data": {
      "text/plain": [
       "{'Location': 0.0,\n",
       " 'MaxTemp': 0.87,\n",
       " 'Rainfall': 2.24,\n",
       " 'WindGustDir': 7.1,\n",
       " 'WindGustSpeed': 7.06,\n",
       " 'WindDir9am': 7.26,\n",
       " 'WindDir3pm': 2.91,\n",
       " 'Humidity9am': 1.82,\n",
       " 'Humidity3pm': 3.1,\n",
       " 'Pressure9am': 10.36,\n",
       " 'Pressure3pm': 10.33,\n",
       " 'Temp3pm': 2.48,\n",
       " 'RainToday': 2.24,\n",
       " 'RainTomorrow': 2.25}"
      ]
     },
     "execution_count": 80,
     "metadata": {},
     "output_type": "execute_result"
    }
   ],
   "source": [
    "missing_vals_percentages = percentage_nan(dataframe_clean_2)\n",
    "missing_vals_percentages"
   ]
  },
  {
   "cell_type": "markdown",
   "id": "3fb4fe6b",
   "metadata": {},
   "source": [
    "<br>\n",
    "<br>\n",
    "<br>\n",
    "<br>\n",
    "<br>"
   ]
  },
  {
   "cell_type": "markdown",
   "id": "ac1f7634",
   "metadata": {},
   "source": [
    "#### Save cleaned dataframed to csv file"
   ]
  },
  {
   "cell_type": "code",
   "execution_count": 81,
   "id": "25191261",
   "metadata": {},
   "outputs": [],
   "source": [
    "dataframe_clean_2.to_csv(r\"C:\\Users\\Lucio\\Documents\\Github\\Next-day-rain-prediction\\1- Data\\2- Processed\\dataframe_clean_2.csv\")"
   ]
  },
  {
   "cell_type": "markdown",
   "id": "65b1dd8e",
   "metadata": {},
   "source": [
    "dataframe_clean_2 characteristics:\n",
    "- Drop irrelevant columns (correlation with target variable <0.1)"
   ]
  }
 ],
 "metadata": {
  "kernelspec": {
   "display_name": "Python 3 (ipykernel)",
   "language": "python",
   "name": "python3"
  },
  "language_info": {
   "codemirror_mode": {
    "name": "ipython",
    "version": 3
   },
   "file_extension": ".py",
   "mimetype": "text/x-python",
   "name": "python",
   "nbconvert_exporter": "python",
   "pygments_lexer": "ipython3",
   "version": "3.9.7"
  }
 },
 "nbformat": 4,
 "nbformat_minor": 5
}
