{
 "cells": [
  {
   "cell_type": "markdown",
   "id": "d08b759c",
   "metadata": {},
   "source": [
    "## Rain prediction in Australia"
   ]
  },
  {
   "cell_type": "markdown",
   "id": "a326aeae",
   "metadata": {},
   "source": [
    "#### Import required libraries"
   ]
  },
  {
   "cell_type": "code",
   "execution_count": 23,
   "id": "5bf4efdf",
   "metadata": {},
   "outputs": [],
   "source": [
    "import pandas as pd\n",
    "import numpy as np\n",
    "import seaborn as sns\n",
    "import plotly.express as px\n",
    "import matplotlib.pyplot as plt\n",
    "\n",
    "from statsmodels.stats.outliers_influence import variance_inflation_factor\n",
    "from imblearn.over_sampling import SMOTE\n",
    "\n",
    "import sklearn\n",
    "\n",
    "from sklearn.svm import SVC\n",
    "from sklearn.svm import SVR\n",
    "\n",
    "from sklearn.impute import SimpleImputer\n",
    "\n",
    "from sklearn.ensemble import VotingClassifier\n",
    "from sklearn.ensemble import RandomForestClassifier\n",
    "from sklearn.ensemble import RandomForestRegressor\n",
    "from sklearn.ensemble import GradientBoostingClassifier\n",
    "\n",
    "from sklearn.linear_model import LogisticRegression\n",
    "\n",
    "from sklearn.model_selection import train_test_split\n",
    "\n",
    "from sklearn.preprocessing import MinMaxScaler,OneHotEncoder, LabelEncoder\n",
    "\n",
    "from sklearn.metrics import classification_report, confusion_matrix\n",
    "from sklearn.metrics import accuracy_score,roc_auc_score,precision_score, recall_score, f1_score,ConfusionMatrixDisplay,classification_report\n",
    "from sklearn.metrics import mean_squared_error\n",
    "\n",
    "import optuna\n",
    "\n",
    "import xgboost as xgb\n",
    "from xgboost import XGBClassifier\n",
    "\n",
    "import joblib"
   ]
  },
  {
   "cell_type": "markdown",
   "id": "408fa72b",
   "metadata": {},
   "source": [
    "<br>\n",
    "<br>\n",
    "<br>\n",
    "<br>\n",
    "<br>"
   ]
  },
  {
   "cell_type": "markdown",
   "id": "0d5047e1",
   "metadata": {},
   "source": [
    "#### Read dataset"
   ]
  },
  {
   "cell_type": "code",
   "execution_count": 24,
   "id": "5df197d2",
   "metadata": {},
   "outputs": [
    {
     "data": {
      "text/html": [
       "<div>\n",
       "<style scoped>\n",
       "    .dataframe tbody tr th:only-of-type {\n",
       "        vertical-align: middle;\n",
       "    }\n",
       "\n",
       "    .dataframe tbody tr th {\n",
       "        vertical-align: top;\n",
       "    }\n",
       "\n",
       "    .dataframe thead th {\n",
       "        text-align: right;\n",
       "    }\n",
       "</style>\n",
       "<table border=\"1\" class=\"dataframe\">\n",
       "  <thead>\n",
       "    <tr style=\"text-align: right;\">\n",
       "      <th></th>\n",
       "      <th>Location</th>\n",
       "      <th>Rainfall</th>\n",
       "      <th>WindGustDir</th>\n",
       "      <th>WindGustSpeed</th>\n",
       "      <th>WindDir9am</th>\n",
       "      <th>WindDir3pm</th>\n",
       "      <th>Humidity9am</th>\n",
       "      <th>Humidity3pm</th>\n",
       "      <th>Pressure9am</th>\n",
       "      <th>RainToday</th>\n",
       "      <th>RainTomorrow</th>\n",
       "    </tr>\n",
       "  </thead>\n",
       "  <tbody>\n",
       "    <tr>\n",
       "      <th>0</th>\n",
       "      <td>Albury</td>\n",
       "      <td>0.6</td>\n",
       "      <td>W</td>\n",
       "      <td>44.0</td>\n",
       "      <td>W</td>\n",
       "      <td>WNW</td>\n",
       "      <td>71.0</td>\n",
       "      <td>22.0</td>\n",
       "      <td>1007.7</td>\n",
       "      <td>0.0</td>\n",
       "      <td>0.0</td>\n",
       "    </tr>\n",
       "    <tr>\n",
       "      <th>1</th>\n",
       "      <td>Albury</td>\n",
       "      <td>0.0</td>\n",
       "      <td>WNW</td>\n",
       "      <td>44.0</td>\n",
       "      <td>NNW</td>\n",
       "      <td>WSW</td>\n",
       "      <td>44.0</td>\n",
       "      <td>25.0</td>\n",
       "      <td>1010.6</td>\n",
       "      <td>0.0</td>\n",
       "      <td>0.0</td>\n",
       "    </tr>\n",
       "    <tr>\n",
       "      <th>2</th>\n",
       "      <td>Albury</td>\n",
       "      <td>0.0</td>\n",
       "      <td>WSW</td>\n",
       "      <td>46.0</td>\n",
       "      <td>W</td>\n",
       "      <td>WSW</td>\n",
       "      <td>38.0</td>\n",
       "      <td>30.0</td>\n",
       "      <td>1007.6</td>\n",
       "      <td>0.0</td>\n",
       "      <td>0.0</td>\n",
       "    </tr>\n",
       "    <tr>\n",
       "      <th>3</th>\n",
       "      <td>Albury</td>\n",
       "      <td>0.0</td>\n",
       "      <td>NE</td>\n",
       "      <td>24.0</td>\n",
       "      <td>SE</td>\n",
       "      <td>E</td>\n",
       "      <td>45.0</td>\n",
       "      <td>16.0</td>\n",
       "      <td>1017.6</td>\n",
       "      <td>0.0</td>\n",
       "      <td>0.0</td>\n",
       "    </tr>\n",
       "    <tr>\n",
       "      <th>4</th>\n",
       "      <td>Albury</td>\n",
       "      <td>1.0</td>\n",
       "      <td>W</td>\n",
       "      <td>41.0</td>\n",
       "      <td>ENE</td>\n",
       "      <td>NW</td>\n",
       "      <td>82.0</td>\n",
       "      <td>33.0</td>\n",
       "      <td>1010.8</td>\n",
       "      <td>0.0</td>\n",
       "      <td>0.0</td>\n",
       "    </tr>\n",
       "  </tbody>\n",
       "</table>\n",
       "</div>"
      ],
      "text/plain": [
       "  Location  Rainfall WindGustDir  WindGustSpeed WindDir9am WindDir3pm  \\\n",
       "0   Albury       0.6           W           44.0          W        WNW   \n",
       "1   Albury       0.0         WNW           44.0        NNW        WSW   \n",
       "2   Albury       0.0         WSW           46.0          W        WSW   \n",
       "3   Albury       0.0          NE           24.0         SE          E   \n",
       "4   Albury       1.0           W           41.0        ENE         NW   \n",
       "\n",
       "   Humidity9am  Humidity3pm  Pressure9am  RainToday  RainTomorrow  \n",
       "0         71.0         22.0       1007.7        0.0           0.0  \n",
       "1         44.0         25.0       1010.6        0.0           0.0  \n",
       "2         38.0         30.0       1007.6        0.0           0.0  \n",
       "3         45.0         16.0       1017.6        0.0           0.0  \n",
       "4         82.0         33.0       1010.8        0.0           0.0  "
      ]
     },
     "execution_count": 24,
     "metadata": {},
     "output_type": "execute_result"
    }
   ],
   "source": [
    "dataframe_clean_wo_outl_wo_corr = pd.read_csv(r\"C:\\Users\\Lucio\\Documents\\Github\\Next-day-rain-prediction\\1- Data\\2- Processed\\dataframe_clean_wo_outl_wo_corr.csv\", index_col=0)\n",
    "dataframe_clean_wo_outl_wo_corr.head()"
   ]
  },
  {
   "cell_type": "markdown",
   "id": "59c7d8c7",
   "metadata": {},
   "source": [
    "dataframe_clean_wo_outl_wo_corr characteristics:\n",
    "- Removed univariated outliers\n",
    "- Removed variables with high collinearity"
   ]
  },
  {
   "cell_type": "markdown",
   "id": "8e506872",
   "metadata": {},
   "source": [
    "<br>\n",
    "<br>\n",
    "<br>\n",
    "<br>\n",
    "<br>"
   ]
  },
  {
   "cell_type": "markdown",
   "id": "1f8e8f3f",
   "metadata": {},
   "source": [
    "#### Encode Categorical Features"
   ]
  },
  {
   "cell_type": "code",
   "execution_count": 25,
   "id": "9e803742",
   "metadata": {},
   "outputs": [
    {
     "data": {
      "text/html": [
       "<div>\n",
       "<style scoped>\n",
       "    .dataframe tbody tr th:only-of-type {\n",
       "        vertical-align: middle;\n",
       "    }\n",
       "\n",
       "    .dataframe tbody tr th {\n",
       "        vertical-align: top;\n",
       "    }\n",
       "\n",
       "    .dataframe thead th {\n",
       "        text-align: right;\n",
       "    }\n",
       "</style>\n",
       "<table border=\"1\" class=\"dataframe\">\n",
       "  <thead>\n",
       "    <tr style=\"text-align: right;\">\n",
       "      <th></th>\n",
       "      <th>Rainfall</th>\n",
       "      <th>WindGustSpeed</th>\n",
       "      <th>Humidity9am</th>\n",
       "      <th>Humidity3pm</th>\n",
       "      <th>Pressure9am</th>\n",
       "      <th>RainToday</th>\n",
       "      <th>RainTomorrow</th>\n",
       "      <th>Location_Adelaide</th>\n",
       "      <th>Location_Albany</th>\n",
       "      <th>Location_Albury</th>\n",
       "      <th>...</th>\n",
       "      <th>WindDir3pm_NNW</th>\n",
       "      <th>WindDir3pm_NW</th>\n",
       "      <th>WindDir3pm_S</th>\n",
       "      <th>WindDir3pm_SE</th>\n",
       "      <th>WindDir3pm_SSE</th>\n",
       "      <th>WindDir3pm_SSW</th>\n",
       "      <th>WindDir3pm_SW</th>\n",
       "      <th>WindDir3pm_W</th>\n",
       "      <th>WindDir3pm_WNW</th>\n",
       "      <th>WindDir3pm_WSW</th>\n",
       "    </tr>\n",
       "  </thead>\n",
       "  <tbody>\n",
       "    <tr>\n",
       "      <th>0</th>\n",
       "      <td>0.6</td>\n",
       "      <td>44.0</td>\n",
       "      <td>71.0</td>\n",
       "      <td>22.0</td>\n",
       "      <td>1007.7</td>\n",
       "      <td>0.0</td>\n",
       "      <td>0.0</td>\n",
       "      <td>0</td>\n",
       "      <td>0</td>\n",
       "      <td>1</td>\n",
       "      <td>...</td>\n",
       "      <td>0</td>\n",
       "      <td>0</td>\n",
       "      <td>0</td>\n",
       "      <td>0</td>\n",
       "      <td>0</td>\n",
       "      <td>0</td>\n",
       "      <td>0</td>\n",
       "      <td>0</td>\n",
       "      <td>1</td>\n",
       "      <td>0</td>\n",
       "    </tr>\n",
       "    <tr>\n",
       "      <th>1</th>\n",
       "      <td>0.0</td>\n",
       "      <td>44.0</td>\n",
       "      <td>44.0</td>\n",
       "      <td>25.0</td>\n",
       "      <td>1010.6</td>\n",
       "      <td>0.0</td>\n",
       "      <td>0.0</td>\n",
       "      <td>0</td>\n",
       "      <td>0</td>\n",
       "      <td>1</td>\n",
       "      <td>...</td>\n",
       "      <td>0</td>\n",
       "      <td>0</td>\n",
       "      <td>0</td>\n",
       "      <td>0</td>\n",
       "      <td>0</td>\n",
       "      <td>0</td>\n",
       "      <td>0</td>\n",
       "      <td>0</td>\n",
       "      <td>0</td>\n",
       "      <td>1</td>\n",
       "    </tr>\n",
       "    <tr>\n",
       "      <th>2</th>\n",
       "      <td>0.0</td>\n",
       "      <td>46.0</td>\n",
       "      <td>38.0</td>\n",
       "      <td>30.0</td>\n",
       "      <td>1007.6</td>\n",
       "      <td>0.0</td>\n",
       "      <td>0.0</td>\n",
       "      <td>0</td>\n",
       "      <td>0</td>\n",
       "      <td>1</td>\n",
       "      <td>...</td>\n",
       "      <td>0</td>\n",
       "      <td>0</td>\n",
       "      <td>0</td>\n",
       "      <td>0</td>\n",
       "      <td>0</td>\n",
       "      <td>0</td>\n",
       "      <td>0</td>\n",
       "      <td>0</td>\n",
       "      <td>0</td>\n",
       "      <td>1</td>\n",
       "    </tr>\n",
       "    <tr>\n",
       "      <th>3</th>\n",
       "      <td>0.0</td>\n",
       "      <td>24.0</td>\n",
       "      <td>45.0</td>\n",
       "      <td>16.0</td>\n",
       "      <td>1017.6</td>\n",
       "      <td>0.0</td>\n",
       "      <td>0.0</td>\n",
       "      <td>0</td>\n",
       "      <td>0</td>\n",
       "      <td>1</td>\n",
       "      <td>...</td>\n",
       "      <td>0</td>\n",
       "      <td>0</td>\n",
       "      <td>0</td>\n",
       "      <td>0</td>\n",
       "      <td>0</td>\n",
       "      <td>0</td>\n",
       "      <td>0</td>\n",
       "      <td>0</td>\n",
       "      <td>0</td>\n",
       "      <td>0</td>\n",
       "    </tr>\n",
       "    <tr>\n",
       "      <th>4</th>\n",
       "      <td>1.0</td>\n",
       "      <td>41.0</td>\n",
       "      <td>82.0</td>\n",
       "      <td>33.0</td>\n",
       "      <td>1010.8</td>\n",
       "      <td>0.0</td>\n",
       "      <td>0.0</td>\n",
       "      <td>0</td>\n",
       "      <td>0</td>\n",
       "      <td>1</td>\n",
       "      <td>...</td>\n",
       "      <td>0</td>\n",
       "      <td>1</td>\n",
       "      <td>0</td>\n",
       "      <td>0</td>\n",
       "      <td>0</td>\n",
       "      <td>0</td>\n",
       "      <td>0</td>\n",
       "      <td>0</td>\n",
       "      <td>0</td>\n",
       "      <td>0</td>\n",
       "    </tr>\n",
       "  </tbody>\n",
       "</table>\n",
       "<p>5 rows × 104 columns</p>\n",
       "</div>"
      ],
      "text/plain": [
       "   Rainfall  WindGustSpeed  Humidity9am  Humidity3pm  Pressure9am  RainToday  \\\n",
       "0       0.6           44.0         71.0         22.0       1007.7        0.0   \n",
       "1       0.0           44.0         44.0         25.0       1010.6        0.0   \n",
       "2       0.0           46.0         38.0         30.0       1007.6        0.0   \n",
       "3       0.0           24.0         45.0         16.0       1017.6        0.0   \n",
       "4       1.0           41.0         82.0         33.0       1010.8        0.0   \n",
       "\n",
       "   RainTomorrow  Location_Adelaide  Location_Albany  Location_Albury  ...  \\\n",
       "0           0.0                  0                0                1  ...   \n",
       "1           0.0                  0                0                1  ...   \n",
       "2           0.0                  0                0                1  ...   \n",
       "3           0.0                  0                0                1  ...   \n",
       "4           0.0                  0                0                1  ...   \n",
       "\n",
       "   WindDir3pm_NNW  WindDir3pm_NW  WindDir3pm_S  WindDir3pm_SE  WindDir3pm_SSE  \\\n",
       "0               0              0             0              0               0   \n",
       "1               0              0             0              0               0   \n",
       "2               0              0             0              0               0   \n",
       "3               0              0             0              0               0   \n",
       "4               0              1             0              0               0   \n",
       "\n",
       "   WindDir3pm_SSW  WindDir3pm_SW  WindDir3pm_W  WindDir3pm_WNW  WindDir3pm_WSW  \n",
       "0               0              0             0               1               0  \n",
       "1               0              0             0               0               1  \n",
       "2               0              0             0               0               1  \n",
       "3               0              0             0               0               0  \n",
       "4               0              0             0               0               0  \n",
       "\n",
       "[5 rows x 104 columns]"
      ]
     },
     "execution_count": 25,
     "metadata": {},
     "output_type": "execute_result"
    }
   ],
   "source": [
    "dataframe_encoded = pd.get_dummies(dataframe_clean_wo_outl_wo_corr)\n",
    "dataframe_encoded.head()"
   ]
  },
  {
   "cell_type": "markdown",
   "id": "d587c530",
   "metadata": {},
   "source": [
    "<br>\n",
    "<br>\n",
    "<br>\n",
    "<br>\n",
    "<br>"
   ]
  },
  {
   "cell_type": "markdown",
   "id": "9cb19259",
   "metadata": {},
   "source": [
    "## Model Tranining"
   ]
  },
  {
   "cell_type": "markdown",
   "id": "41b154b5",
   "metadata": {},
   "source": [
    "#### Create X and y dataframes"
   ]
  },
  {
   "cell_type": "code",
   "execution_count": 26,
   "id": "24797604",
   "metadata": {},
   "outputs": [],
   "source": [
    "X = dataframe_encoded[[c for c in dataframe_encoded if c != 'RainTomorrow']].values\n",
    "y = dataframe_encoded[['RainTomorrow']]"
   ]
  },
  {
   "cell_type": "code",
   "execution_count": 27,
   "id": "0e775f7c",
   "metadata": {},
   "outputs": [],
   "source": [
    "X_train, X_val, y_train, y_val = sklearn.model_selection.train_test_split(X, y,random_state=42, test_size=0.30)"
   ]
  },
  {
   "cell_type": "markdown",
   "id": "9b0bef1b",
   "metadata": {},
   "source": [
    "#### Define optimization function"
   ]
  },
  {
   "cell_type": "code",
   "execution_count": 28,
   "id": "05867c50",
   "metadata": {},
   "outputs": [],
   "source": [
    "def objective_xgb(trial):\n",
    "    param = {\n",
    "        \"verbosity\": 1,\n",
    "        \"objective\": \"binary:logistic\",\n",
    "        \"booster\": trial.suggest_categorical(\"booster\", [\"gbtree\"]),\n",
    "        \"lambda\": trial.suggest_float(\"lambda\", 1e-8, 1.0, log=True),\n",
    "        \"alpha\": trial.suggest_float(\"alpha\", 1e-8, 1.0, log=True),\n",
    "        'eval_metric': 'error',\n",
    "    }\n",
    "\n",
    "    #param[\"booster\"] == \"gbtree\"\n",
    "    param[\"subsample\"] = trial.suggest_float(\"subsample\", 1e-8, 1.0, log=True)\n",
    "    param[\"n_estimators\"] = trial.suggest_int(\"n_estimators\", 1, 1000)        \n",
    "    param[\"max_depth\"] = trial.suggest_int(\"max_depth\", 1, 64)\n",
    "    param[\"eta\"] = trial.suggest_float(\"eta\", 1e-8, 1.0, log=True)\n",
    "    param[\"gamma\"] = trial.suggest_float(\"gamma\", 1e-8, 1.0, log=True)\n",
    "    param[\"grow_policy\"] = trial.suggest_categorical(\"grow_policy\", [\"depthwise\", \"lossguide\"])\n",
    "    \n",
    "    weights = [1, 3.57]  #Adjust weights based on rain/no-rain proportion\n",
    "    \n",
    "    bst = xgb.XGBClassifier(**param, scale_pos_weight=weights)\n",
    "    bst.fit(X_train, y_train)\n",
    "\n",
    "    y_pred = bst.predict(X_val)\n",
    "    accuracy = sklearn.metrics.accuracy_score(y_val, y_pred)\n",
    "\n",
    "    return -accuracy  #Negative accuracy to maximize it (because 'eval_metric': 'error')"
   ]
  },
  {
   "cell_type": "markdown",
   "id": "f1a730b7",
   "metadata": {},
   "source": [
    "#### Applying StandardScaler"
   ]
  },
  {
   "cell_type": "code",
   "execution_count": 29,
   "id": "0e9725a0",
   "metadata": {},
   "outputs": [],
   "source": [
    "sc_X = MinMaxScaler()\n",
    "sc_y = MinMaxScaler()\n",
    "X_sc = sc_X.fit_transform(X)\n",
    "y_sc = sc_y.fit_transform(y)"
   ]
  },
  {
   "cell_type": "code",
   "execution_count": 30,
   "id": "8934496d",
   "metadata": {},
   "outputs": [],
   "source": [
    "X_sc_train, X_sc_val, y_sc_train, y_sc_val = sklearn.model_selection.train_test_split(X_sc, y_sc, random_state=42, test_size=0.30)"
   ]
  },
  {
   "cell_type": "markdown",
   "id": "87e008a2",
   "metadata": {},
   "source": [
    "#### Applying SMOTE"
   ]
  },
  {
   "cell_type": "code",
   "execution_count": null,
   "id": "347e77af",
   "metadata": {},
   "outputs": [],
   "source": [
    "smote = SMOTE(random_state=42)\n",
    "X_train_resampled, y_train_resampled = smote.fit_resample(X_sc_train, y_train)"
   ]
  },
  {
   "cell_type": "markdown",
   "id": "bf3edbca",
   "metadata": {},
   "source": [
    "#### Hyperparameter optimization with Optuna"
   ]
  },
  {
   "cell_type": "code",
   "execution_count": 31,
   "id": "dbeb5158",
   "metadata": {},
   "outputs": [
    {
     "name": "stderr",
     "output_type": "stream",
     "text": [
      "[I 2023-11-22 21:12:20,365] A new study created in memory with name: no-name-2c00cb44-7e8b-442f-bcd4-e979a4bb6cbc\n",
      "[I 2023-11-22 21:12:35,816] Trial 0 finished with value: -0.8445377187550173 and parameters: {'booster': 'gbtree', 'lambda': 0.027630774481593276, 'alpha': 0.00013981050634138305, 'subsample': 0.19691069977877504, 'n_estimators': 16, 'max_depth': 57, 'eta': 2.862057076555471e-07, 'gamma': 0.0002686939512148304, 'grow_policy': 'depthwise'}. Best is trial 0 with value: -0.8445377187550173.\n",
      "[I 2023-11-22 21:15:35,020] Trial 1 finished with value: -0.8373815913209018 and parameters: {'booster': 'gbtree', 'lambda': 0.0003138671023845109, 'alpha': 9.667005485220138e-07, 'subsample': 0.003144461614729573, 'n_estimators': 826, 'max_depth': 52, 'eta': 0.024148418918972923, 'gamma': 6.987691102215019e-06, 'grow_policy': 'depthwise'}. Best is trial 0 with value: -0.8445377187550173.\n",
      "[I 2023-11-22 21:16:10,422] Trial 2 finished with value: -0.7977017821509668 and parameters: {'booster': 'gbtree', 'lambda': 2.594462929793699e-07, 'alpha': 0.02237034270969278, 'subsample': 0.00016526688348385762, 'n_estimators': 537, 'max_depth': 5, 'eta': 2.1007235044056453e-08, 'gamma': 2.808469901484289e-05, 'grow_policy': 'lossguide'}. Best is trial 0 with value: -0.8445377187550173.\n",
      "[I 2023-11-22 21:16:15,483] Trial 3 finished with value: -0.7825638202711072 and parameters: {'booster': 'gbtree', 'lambda': 1.1323124848936392e-07, 'alpha': 0.0005518228815375785, 'subsample': 1.1350704066948658e-07, 'n_estimators': 118, 'max_depth': 1, 'eta': 0.1271086795225242, 'gamma': 0.025591725774397996, 'grow_policy': 'depthwise'}. Best is trial 0 with value: -0.8445377187550173.\n",
      "[I 2023-11-22 21:16:31,303] Trial 4 finished with value: -0.8484139544484965 and parameters: {'booster': 'gbtree', 'lambda': 6.477738856703739e-05, 'alpha': 0.005181432703955367, 'subsample': 0.8409496636063104, 'n_estimators': 187, 'max_depth': 2, 'eta': 0.2509646349540636, 'gamma': 6.477072766916295e-05, 'grow_policy': 'lossguide'}. Best is trial 4 with value: -0.8484139544484965.\n",
      "[I 2023-11-22 21:17:30,001] Trial 5 finished with value: -0.8372898460973875 and parameters: {'booster': 'gbtree', 'lambda': 3.343934604186574e-08, 'alpha': 2.258639080646563e-06, 'subsample': 0.0006115864604679448, 'n_estimators': 590, 'max_depth': 62, 'eta': 6.45644510310743e-07, 'gamma': 4.822601569362895e-08, 'grow_policy': 'depthwise'}. Best is trial 4 with value: -0.8484139544484965.\n",
      "[I 2023-11-22 21:17:56,735] Trial 6 finished with value: -0.7825638202711072 and parameters: {'booster': 'gbtree', 'lambda': 0.002523286425455636, 'alpha': 0.07236197796208958, 'subsample': 2.7670197159955802e-05, 'n_estimators': 593, 'max_depth': 15, 'eta': 0.0011146697215243878, 'gamma': 1.6484245142903766e-05, 'grow_policy': 'depthwise'}. Best is trial 4 with value: -0.8484139544484965.\n",
      "[I 2023-11-22 21:17:58,358] Trial 7 finished with value: -0.7825638202711072 and parameters: {'booster': 'gbtree', 'lambda': 4.4061890463738163e-07, 'alpha': 0.0007435815009008012, 'subsample': 0.00012582065116644895, 'n_estimators': 19, 'max_depth': 36, 'eta': 5.3215759038935436e-05, 'gamma': 4.178941134688086e-07, 'grow_policy': 'depthwise'}. Best is trial 4 with value: -0.8484139544484965.\n",
      "[I 2023-11-22 21:18:35,901] Trial 8 finished with value: -0.7825638202711072 and parameters: {'booster': 'gbtree', 'lambda': 0.5797963297676184, 'alpha': 3.0087813677011543e-05, 'subsample': 8.968490399218893e-06, 'n_estimators': 841, 'max_depth': 51, 'eta': 0.11199741770395642, 'gamma': 8.35086398806148e-07, 'grow_policy': 'depthwise'}. Best is trial 4 with value: -0.8484139544484965.\n",
      "[I 2023-11-22 21:18:38,032] Trial 9 finished with value: -0.7825638202711072 and parameters: {'booster': 'gbtree', 'lambda': 0.03531234710092921, 'alpha': 0.062315343466221, 'subsample': 1.5791992770919593e-06, 'n_estimators': 41, 'max_depth': 63, 'eta': 0.00033623500140838, 'gamma': 2.3466827431427866e-08, 'grow_policy': 'lossguide'}. Best is trial 4 with value: -0.8484139544484965.\n"
     ]
    },
    {
     "data": {
      "text/plain": [
       "{'booster': 'gbtree',\n",
       " 'lambda': 6.477738856703739e-05,\n",
       " 'alpha': 0.005181432703955367,\n",
       " 'subsample': 0.8409496636063104,\n",
       " 'n_estimators': 187,\n",
       " 'max_depth': 2,\n",
       " 'eta': 0.2509646349540636,\n",
       " 'gamma': 6.477072766916295e-05,\n",
       " 'grow_policy': 'lossguide'}"
      ]
     },
     "execution_count": 31,
     "metadata": {},
     "output_type": "execute_result"
    }
   ],
   "source": [
    "study_xgb = optuna.create_study()\n",
    "study_xgb.optimize(objective_xgb, n_trials=10)\n",
    "study_xgb.best_params"
   ]
  },
  {
   "cell_type": "code",
   "execution_count": 32,
   "id": "16390390",
   "metadata": {},
   "outputs": [
    {
     "data": {
      "text/plain": [
       "{'booster': 'gbtree',\n",
       " 'lambda': 6.477738856703739e-05,\n",
       " 'alpha': 0.005181432703955367,\n",
       " 'subsample': 0.8409496636063104,\n",
       " 'n_estimators': 187,\n",
       " 'max_depth': 2,\n",
       " 'eta': 0.2509646349540636,\n",
       " 'gamma': 6.477072766916295e-05,\n",
       " 'grow_policy': 'lossguide'}"
      ]
     },
     "execution_count": 32,
     "metadata": {},
     "output_type": "execute_result"
    }
   ],
   "source": [
    "xgb_params = study_xgb.best_params\n",
    "xgb_params"
   ]
  },
  {
   "cell_type": "markdown",
   "id": "672091fa",
   "metadata": {},
   "source": [
    "#### Train model using best parameters\n",
    "Adjust weights based on rain/no-rain proportion"
   ]
  },
  {
   "cell_type": "code",
   "execution_count": 36,
   "id": "a4843392",
   "metadata": {},
   "outputs": [
    {
     "name": "stdout",
     "output_type": "stream",
     "text": [
      "[21:25:33] WARNING: C:/Users/administrator/workspace/xgboost-win64_release_1.6.0/src/learner.cc:627: \n",
      "Parameters: { \"silent\" } might not be used.\n",
      "\n",
      "  This could be a false alarm, with some parameters getting used by language bindings but\n",
      "  then being mistakenly passed down to XGBoost core, or some parameter actually being used\n",
      "  but getting flagged wrongly here. Please open an issue if you find any such cases.\n",
      "\n",
      "\n",
      "[0]\tvalidation_0-logloss:0.63844\n",
      "[1]\tvalidation_0-logloss:0.60233\n",
      "[2]\tvalidation_0-logloss:0.57921\n",
      "[3]\tvalidation_0-logloss:0.56217\n",
      "[4]\tvalidation_0-logloss:0.54829\n",
      "[5]\tvalidation_0-logloss:0.53678\n",
      "[6]\tvalidation_0-logloss:0.52919\n",
      "[7]\tvalidation_0-logloss:0.52215\n",
      "[8]\tvalidation_0-logloss:0.51566\n",
      "[9]\tvalidation_0-logloss:0.51184\n",
      "[10]\tvalidation_0-logloss:0.50797\n",
      "[11]\tvalidation_0-logloss:0.50525\n",
      "[12]\tvalidation_0-logloss:0.50268\n",
      "[13]\tvalidation_0-logloss:0.50044\n",
      "[14]\tvalidation_0-logloss:0.49792\n",
      "[15]\tvalidation_0-logloss:0.49652\n",
      "[16]\tvalidation_0-logloss:0.49541\n",
      "[17]\tvalidation_0-logloss:0.49346\n",
      "[18]\tvalidation_0-logloss:0.49238\n",
      "[19]\tvalidation_0-logloss:0.49129\n",
      "[20]\tvalidation_0-logloss:0.49007\n",
      "[21]\tvalidation_0-logloss:0.48921\n",
      "[22]\tvalidation_0-logloss:0.48836\n",
      "[23]\tvalidation_0-logloss:0.48737\n",
      "[24]\tvalidation_0-logloss:0.48649\n",
      "[25]\tvalidation_0-logloss:0.48589\n",
      "[26]\tvalidation_0-logloss:0.48544\n",
      "[27]\tvalidation_0-logloss:0.48515\n",
      "[28]\tvalidation_0-logloss:0.48463\n",
      "[29]\tvalidation_0-logloss:0.48439\n",
      "[30]\tvalidation_0-logloss:0.48361\n",
      "[31]\tvalidation_0-logloss:0.48338\n",
      "[32]\tvalidation_0-logloss:0.48293\n",
      "[33]\tvalidation_0-logloss:0.48202\n",
      "[34]\tvalidation_0-logloss:0.48150\n",
      "[35]\tvalidation_0-logloss:0.48088\n",
      "[36]\tvalidation_0-logloss:0.48053\n",
      "[37]\tvalidation_0-logloss:0.48041\n",
      "[38]\tvalidation_0-logloss:0.47978\n",
      "[39]\tvalidation_0-logloss:0.47938\n",
      "[40]\tvalidation_0-logloss:0.47927\n",
      "[41]\tvalidation_0-logloss:0.47922\n",
      "[42]\tvalidation_0-logloss:0.47873\n",
      "[43]\tvalidation_0-logloss:0.47820\n",
      "[44]\tvalidation_0-logloss:0.47752\n",
      "[45]\tvalidation_0-logloss:0.47742\n",
      "[46]\tvalidation_0-logloss:0.47703\n",
      "[47]\tvalidation_0-logloss:0.47676\n",
      "[48]\tvalidation_0-logloss:0.47604\n",
      "[49]\tvalidation_0-logloss:0.47590\n",
      "[50]\tvalidation_0-logloss:0.47540\n",
      "[51]\tvalidation_0-logloss:0.47519\n",
      "[52]\tvalidation_0-logloss:0.47475\n",
      "[53]\tvalidation_0-logloss:0.47437\n",
      "[54]\tvalidation_0-logloss:0.47445\n",
      "[55]\tvalidation_0-logloss:0.47434\n",
      "[56]\tvalidation_0-logloss:0.47393\n",
      "[57]\tvalidation_0-logloss:0.47361\n",
      "[58]\tvalidation_0-logloss:0.47343\n",
      "[59]\tvalidation_0-logloss:0.47288\n",
      "[60]\tvalidation_0-logloss:0.47286\n",
      "[61]\tvalidation_0-logloss:0.47280\n",
      "[62]\tvalidation_0-logloss:0.47244\n",
      "[63]\tvalidation_0-logloss:0.47197\n",
      "[64]\tvalidation_0-logloss:0.47248\n",
      "[65]\tvalidation_0-logloss:0.47217\n",
      "[66]\tvalidation_0-logloss:0.47201\n",
      "[67]\tvalidation_0-logloss:0.47167\n",
      "[68]\tvalidation_0-logloss:0.47128\n",
      "[69]\tvalidation_0-logloss:0.47107\n",
      "[70]\tvalidation_0-logloss:0.47118\n",
      "[71]\tvalidation_0-logloss:0.47103\n",
      "[72]\tvalidation_0-logloss:0.47083\n",
      "[73]\tvalidation_0-logloss:0.47054\n",
      "[74]\tvalidation_0-logloss:0.47050\n",
      "[75]\tvalidation_0-logloss:0.47061\n",
      "[76]\tvalidation_0-logloss:0.47077\n",
      "[77]\tvalidation_0-logloss:0.47064\n",
      "[78]\tvalidation_0-logloss:0.47034\n",
      "[79]\tvalidation_0-logloss:0.46991\n",
      "[80]\tvalidation_0-logloss:0.46992\n",
      "[81]\tvalidation_0-logloss:0.46986\n",
      "[82]\tvalidation_0-logloss:0.46980\n",
      "[83]\tvalidation_0-logloss:0.46978\n",
      "[84]\tvalidation_0-logloss:0.46975\n",
      "[85]\tvalidation_0-logloss:0.46956\n",
      "[86]\tvalidation_0-logloss:0.46953\n",
      "[87]\tvalidation_0-logloss:0.46929\n",
      "[88]\tvalidation_0-logloss:0.46921\n",
      "[89]\tvalidation_0-logloss:0.46900\n",
      "[90]\tvalidation_0-logloss:0.46878\n",
      "[91]\tvalidation_0-logloss:0.46861\n",
      "[92]\tvalidation_0-logloss:0.46826\n",
      "[93]\tvalidation_0-logloss:0.46791\n",
      "[94]\tvalidation_0-logloss:0.46809\n",
      "[95]\tvalidation_0-logloss:0.46820\n",
      "[96]\tvalidation_0-logloss:0.46767\n",
      "[97]\tvalidation_0-logloss:0.46784\n",
      "[98]\tvalidation_0-logloss:0.46752\n",
      "[99]\tvalidation_0-logloss:0.46764\n",
      "[100]\tvalidation_0-logloss:0.46741\n",
      "[101]\tvalidation_0-logloss:0.46769\n",
      "[102]\tvalidation_0-logloss:0.46755\n",
      "[103]\tvalidation_0-logloss:0.46733\n",
      "[104]\tvalidation_0-logloss:0.46706\n",
      "[105]\tvalidation_0-logloss:0.46694\n",
      "[106]\tvalidation_0-logloss:0.46722\n",
      "[107]\tvalidation_0-logloss:0.46718\n",
      "[108]\tvalidation_0-logloss:0.46729\n",
      "[109]\tvalidation_0-logloss:0.46724\n",
      "[110]\tvalidation_0-logloss:0.46683\n",
      "[111]\tvalidation_0-logloss:0.46659\n",
      "[112]\tvalidation_0-logloss:0.46611\n",
      "[113]\tvalidation_0-logloss:0.46613\n",
      "[114]\tvalidation_0-logloss:0.46628\n",
      "[115]\tvalidation_0-logloss:0.46594\n",
      "[116]\tvalidation_0-logloss:0.46570\n",
      "[117]\tvalidation_0-logloss:0.46561\n",
      "[118]\tvalidation_0-logloss:0.46517\n",
      "[119]\tvalidation_0-logloss:0.46508\n",
      "[120]\tvalidation_0-logloss:0.46522\n",
      "[121]\tvalidation_0-logloss:0.46523\n",
      "[122]\tvalidation_0-logloss:0.46491\n",
      "[123]\tvalidation_0-logloss:0.46478\n",
      "[124]\tvalidation_0-logloss:0.46487\n",
      "[125]\tvalidation_0-logloss:0.46510\n",
      "[126]\tvalidation_0-logloss:0.46496\n",
      "[127]\tvalidation_0-logloss:0.46499\n",
      "[128]\tvalidation_0-logloss:0.46512\n",
      "[129]\tvalidation_0-logloss:0.46496\n",
      "[130]\tvalidation_0-logloss:0.46495\n",
      "[131]\tvalidation_0-logloss:0.46491\n",
      "[132]\tvalidation_0-logloss:0.46474\n",
      "[133]\tvalidation_0-logloss:0.46491\n",
      "[134]\tvalidation_0-logloss:0.46473\n",
      "[135]\tvalidation_0-logloss:0.46490\n",
      "[136]\tvalidation_0-logloss:0.46490\n",
      "[137]\tvalidation_0-logloss:0.46474\n",
      "[138]\tvalidation_0-logloss:0.46441\n",
      "[139]\tvalidation_0-logloss:0.46417\n",
      "[140]\tvalidation_0-logloss:0.46398\n",
      "[141]\tvalidation_0-logloss:0.46389\n",
      "[142]\tvalidation_0-logloss:0.46387\n",
      "[143]\tvalidation_0-logloss:0.46348\n",
      "[144]\tvalidation_0-logloss:0.46340\n",
      "[145]\tvalidation_0-logloss:0.46334\n",
      "[146]\tvalidation_0-logloss:0.46356\n",
      "[147]\tvalidation_0-logloss:0.46321\n",
      "[148]\tvalidation_0-logloss:0.46345\n",
      "[149]\tvalidation_0-logloss:0.46313\n",
      "[150]\tvalidation_0-logloss:0.46328\n",
      "[151]\tvalidation_0-logloss:0.46310\n",
      "[152]\tvalidation_0-logloss:0.46307\n",
      "[153]\tvalidation_0-logloss:0.46277\n",
      "[154]\tvalidation_0-logloss:0.46265\n",
      "[155]\tvalidation_0-logloss:0.46271\n",
      "[156]\tvalidation_0-logloss:0.46259\n",
      "[157]\tvalidation_0-logloss:0.46270\n",
      "[158]\tvalidation_0-logloss:0.46248\n",
      "[159]\tvalidation_0-logloss:0.46282\n",
      "[160]\tvalidation_0-logloss:0.46277\n",
      "[161]\tvalidation_0-logloss:0.46278\n",
      "[162]\tvalidation_0-logloss:0.46263\n",
      "[163]\tvalidation_0-logloss:0.46263\n",
      "[164]\tvalidation_0-logloss:0.46270\n",
      "[165]\tvalidation_0-logloss:0.46262\n",
      "[166]\tvalidation_0-logloss:0.46230\n",
      "[167]\tvalidation_0-logloss:0.46225\n",
      "[168]\tvalidation_0-logloss:0.46215\n",
      "[169]\tvalidation_0-logloss:0.46214\n",
      "[170]\tvalidation_0-logloss:0.46189\n",
      "[171]\tvalidation_0-logloss:0.46181\n",
      "[172]\tvalidation_0-logloss:0.46166\n",
      "[173]\tvalidation_0-logloss:0.46176\n",
      "[174]\tvalidation_0-logloss:0.46179\n",
      "[175]\tvalidation_0-logloss:0.46166\n",
      "[176]\tvalidation_0-logloss:0.46178\n",
      "[177]\tvalidation_0-logloss:0.46150\n",
      "[178]\tvalidation_0-logloss:0.46107\n",
      "[179]\tvalidation_0-logloss:0.46127\n",
      "[180]\tvalidation_0-logloss:0.46140\n",
      "[181]\tvalidation_0-logloss:0.46145\n",
      "[182]\tvalidation_0-logloss:0.46078\n",
      "[183]\tvalidation_0-logloss:0.46062\n",
      "[184]\tvalidation_0-logloss:0.46075\n",
      "[185]\tvalidation_0-logloss:0.46052\n",
      "[186]\tvalidation_0-logloss:0.46086\n"
     ]
    },
    {
     "data": {
      "text/html": [
       "<style>#sk-container-id-2 {color: black;background-color: white;}#sk-container-id-2 pre{padding: 0;}#sk-container-id-2 div.sk-toggleable {background-color: white;}#sk-container-id-2 label.sk-toggleable__label {cursor: pointer;display: block;width: 100%;margin-bottom: 0;padding: 0.3em;box-sizing: border-box;text-align: center;}#sk-container-id-2 label.sk-toggleable__label-arrow:before {content: \"▸\";float: left;margin-right: 0.25em;color: #696969;}#sk-container-id-2 label.sk-toggleable__label-arrow:hover:before {color: black;}#sk-container-id-2 div.sk-estimator:hover label.sk-toggleable__label-arrow:before {color: black;}#sk-container-id-2 div.sk-toggleable__content {max-height: 0;max-width: 0;overflow: hidden;text-align: left;background-color: #f0f8ff;}#sk-container-id-2 div.sk-toggleable__content pre {margin: 0.2em;color: black;border-radius: 0.25em;background-color: #f0f8ff;}#sk-container-id-2 input.sk-toggleable__control:checked~div.sk-toggleable__content {max-height: 200px;max-width: 100%;overflow: auto;}#sk-container-id-2 input.sk-toggleable__control:checked~label.sk-toggleable__label-arrow:before {content: \"▾\";}#sk-container-id-2 div.sk-estimator input.sk-toggleable__control:checked~label.sk-toggleable__label {background-color: #d4ebff;}#sk-container-id-2 div.sk-label input.sk-toggleable__control:checked~label.sk-toggleable__label {background-color: #d4ebff;}#sk-container-id-2 input.sk-hidden--visually {border: 0;clip: rect(1px 1px 1px 1px);clip: rect(1px, 1px, 1px, 1px);height: 1px;margin: -1px;overflow: hidden;padding: 0;position: absolute;width: 1px;}#sk-container-id-2 div.sk-estimator {font-family: monospace;background-color: #f0f8ff;border: 1px dotted black;border-radius: 0.25em;box-sizing: border-box;margin-bottom: 0.5em;}#sk-container-id-2 div.sk-estimator:hover {background-color: #d4ebff;}#sk-container-id-2 div.sk-parallel-item::after {content: \"\";width: 100%;border-bottom: 1px solid gray;flex-grow: 1;}#sk-container-id-2 div.sk-label:hover label.sk-toggleable__label {background-color: #d4ebff;}#sk-container-id-2 div.sk-serial::before {content: \"\";position: absolute;border-left: 1px solid gray;box-sizing: border-box;top: 0;bottom: 0;left: 50%;z-index: 0;}#sk-container-id-2 div.sk-serial {display: flex;flex-direction: column;align-items: center;background-color: white;padding-right: 0.2em;padding-left: 0.2em;position: relative;}#sk-container-id-2 div.sk-item {position: relative;z-index: 1;}#sk-container-id-2 div.sk-parallel {display: flex;align-items: stretch;justify-content: center;background-color: white;position: relative;}#sk-container-id-2 div.sk-item::before, #sk-container-id-2 div.sk-parallel-item::before {content: \"\";position: absolute;border-left: 1px solid gray;box-sizing: border-box;top: 0;bottom: 0;left: 50%;z-index: -1;}#sk-container-id-2 div.sk-parallel-item {display: flex;flex-direction: column;z-index: 1;position: relative;background-color: white;}#sk-container-id-2 div.sk-parallel-item:first-child::after {align-self: flex-end;width: 50%;}#sk-container-id-2 div.sk-parallel-item:last-child::after {align-self: flex-start;width: 50%;}#sk-container-id-2 div.sk-parallel-item:only-child::after {width: 0;}#sk-container-id-2 div.sk-dashed-wrapped {border: 1px dashed gray;margin: 0 0.4em 0.5em 0.4em;box-sizing: border-box;padding-bottom: 0.4em;background-color: white;}#sk-container-id-2 div.sk-label label {font-family: monospace;font-weight: bold;display: inline-block;line-height: 1.2em;}#sk-container-id-2 div.sk-label-container {text-align: center;}#sk-container-id-2 div.sk-container {/* jupyter's `normalize.less` sets `[hidden] { display: none; }` but bootstrap.min.css set `[hidden] { display: none !important; }` so we also need the `!important` here to be able to override the default hidden behavior on the sphinx rendered scikit-learn.org. See: https://github.com/scikit-learn/scikit-learn/issues/21755 */display: inline-block !important;position: relative;}#sk-container-id-2 div.sk-text-repr-fallback {display: none;}</style><div id=\"sk-container-id-2\" class=\"sk-top-container\"><div class=\"sk-text-repr-fallback\"><pre>XGBClassifier(alpha=0.005181432703955367, base_score=0.5, booster=&#x27;gbtree&#x27;,\n",
       "              callbacks=None, colsample_bylevel=1, colsample_bynode=1,\n",
       "              colsample_bytree=1, early_stopping_rounds=None,\n",
       "              enable_categorical=False, eta=0.2509646349540636,\n",
       "              eval_metric=None, gamma=6.477072766916295e-05, gpu_id=-1,\n",
       "              grow_policy=&#x27;lossguide&#x27;, importance_type=None,\n",
       "              interaction_constraints=&#x27;&#x27;, lambda=6.477738856703739e-05,\n",
       "              learning_rate=0.250964642, max_bin=256, max_cat_to_onehot=4,\n",
       "              max_delta_step=0, max_depth=2, max_leaves=0, min_child_weight=1,\n",
       "              missing=nan, monotone_constraints=&#x27;()&#x27;, n_estimators=187,\n",
       "              n_jobs=0, num_parallel_tree=1, predictor=&#x27;auto&#x27;, ...)</pre><b>In a Jupyter environment, please rerun this cell to show the HTML representation or trust the notebook. <br />On GitHub, the HTML representation is unable to render, please try loading this page with nbviewer.org.</b></div><div class=\"sk-container\" hidden><div class=\"sk-item\"><div class=\"sk-estimator sk-toggleable\"><input class=\"sk-toggleable__control sk-hidden--visually\" id=\"sk-estimator-id-2\" type=\"checkbox\" checked><label for=\"sk-estimator-id-2\" class=\"sk-toggleable__label sk-toggleable__label-arrow\">XGBClassifier</label><div class=\"sk-toggleable__content\"><pre>XGBClassifier(alpha=0.005181432703955367, base_score=0.5, booster=&#x27;gbtree&#x27;,\n",
       "              callbacks=None, colsample_bylevel=1, colsample_bynode=1,\n",
       "              colsample_bytree=1, early_stopping_rounds=None,\n",
       "              enable_categorical=False, eta=0.2509646349540636,\n",
       "              eval_metric=None, gamma=6.477072766916295e-05, gpu_id=-1,\n",
       "              grow_policy=&#x27;lossguide&#x27;, importance_type=None,\n",
       "              interaction_constraints=&#x27;&#x27;, lambda=6.477738856703739e-05,\n",
       "              learning_rate=0.250964642, max_bin=256, max_cat_to_onehot=4,\n",
       "              max_delta_step=0, max_depth=2, max_leaves=0, min_child_weight=1,\n",
       "              missing=nan, monotone_constraints=&#x27;()&#x27;, n_estimators=187,\n",
       "              n_jobs=0, num_parallel_tree=1, predictor=&#x27;auto&#x27;, ...)</pre></div></div></div></div></div>"
      ],
      "text/plain": [
       "XGBClassifier(alpha=0.005181432703955367, base_score=0.5, booster='gbtree',\n",
       "              callbacks=None, colsample_bylevel=1, colsample_bynode=1,\n",
       "              colsample_bytree=1, early_stopping_rounds=None,\n",
       "              enable_categorical=False, eta=0.2509646349540636,\n",
       "              eval_metric=None, gamma=6.477072766916295e-05, gpu_id=-1,\n",
       "              grow_policy='lossguide', importance_type=None,\n",
       "              interaction_constraints='', lambda=6.477738856703739e-05,\n",
       "              learning_rate=0.250964642, max_bin=256, max_cat_to_onehot=4,\n",
       "              max_delta_step=0, max_depth=2, max_leaves=0, min_child_weight=1,\n",
       "              missing=nan, monotone_constraints='()', n_estimators=187,\n",
       "              n_jobs=0, num_parallel_tree=1, predictor='auto', ...)"
      ]
     },
     "execution_count": 36,
     "metadata": {},
     "output_type": "execute_result"
    }
   ],
   "source": [
    "ratio_majority_to_minority = len(y_sc_train[y_sc_train == 0]) / len(y_sc_train[y_sc_train == 1])  #Adjust weights based on rain/no-rain proportion\n",
    "\n",
    "model = XGBClassifier(**xgb_params, silent=0, scale_pos_weight=ratio_majority_to_minority)\n",
    "\n",
    "model.fit(X_sc_train, y_sc_train, eval_set=[(X_sc_val, y_sc_val)], early_stopping_rounds=10, verbose=True)"
   ]
  },
  {
   "cell_type": "markdown",
   "id": "9860e6dd",
   "metadata": {},
   "source": [
    "#### Predict using validation dataset"
   ]
  },
  {
   "cell_type": "code",
   "execution_count": 37,
   "id": "582e0f74",
   "metadata": {},
   "outputs": [
    {
     "data": {
      "text/plain": [
       "array([1, 0, 0, ..., 1, 0, 0])"
      ]
     },
     "execution_count": 37,
     "metadata": {},
     "output_type": "execute_result"
    }
   ],
   "source": [
    "y_predicted = model.predict(X_sc_val)\n",
    "y_predicted"
   ]
  },
  {
   "cell_type": "markdown",
   "id": "c5283fc7",
   "metadata": {},
   "source": [
    "#### Model performance evaluation"
   ]
  },
  {
   "cell_type": "code",
   "execution_count": 38,
   "id": "0fe12133",
   "metadata": {},
   "outputs": [
    {
     "name": "stdout",
     "output_type": "stream",
     "text": [
      "Confusion Matrix:\n",
      " [[27030  7089]\n",
      " [ 2289  7191]]\n",
      "Accuracy: 0.7849033234707218\n",
      "Precision: 0.5035714285714286\n",
      "Recall: 0.7585443037974684\n",
      "F1-Score: 0.6053030303030303\n",
      "ROC AUC: 0.7753857542903635\n"
     ]
    }
   ],
   "source": [
    "conf_matrix = confusion_matrix(y_sc_val, y_predicted)\n",
    "\n",
    "accuracy = accuracy_score(y_sc_val, y_predicted)\n",
    "precision = precision_score(y_sc_val, y_predicted)\n",
    "recall = recall_score(y_sc_val, y_predicted)\n",
    "f1 = f1_score(y_sc_val, y_predicted)\n",
    "roc_auc = roc_auc_score(y_sc_val, y_predicted)\n",
    "\n",
    "print(\"Confusion Matrix:\\n\", conf_matrix)\n",
    "print(\"Accuracy:\", accuracy)\n",
    "print(\"Precision:\", precision)\n",
    "print(\"Recall:\", recall)\n",
    "print(\"F1-Score:\", f1)\n",
    "print(\"ROC AUC:\", roc_auc)"
   ]
  },
  {
   "cell_type": "markdown",
   "id": "96fab1c6",
   "metadata": {},
   "source": [
    "#### Save model"
   ]
  },
  {
   "cell_type": "code",
   "execution_count": 39,
   "id": "a66a8d2e",
   "metadata": {},
   "outputs": [
    {
     "data": {
      "text/plain": [
       "['C:\\\\Users\\\\Lucio\\\\Documents\\\\Github\\\\Next-day-rain-prediction\\\\3- Models/XGBClf_rain_pred.joblib']"
      ]
     },
     "execution_count": 39,
     "metadata": {},
     "output_type": "execute_result"
    }
   ],
   "source": [
    "ubi = r'C:\\Users\\Lucio\\Documents\\Github\\Next-day-rain-prediction\\3- Models/XGBClf_rain_pred.joblib'\n",
    "\n",
    "joblib.dump(model, ubi)"
   ]
  },
  {
   "cell_type": "markdown",
   "id": "1043d088",
   "metadata": {},
   "source": [
    "Sin weights:\n",
    "    Confusion Matrix:\n",
    " [[32302  1817]\n",
    " [ 4731  4749]]\n",
    "Accuracy: 0.8498130691070896\n",
    "Precision: 0.7232713981114834\n",
    "Recall: 0.5009493670886076\n",
    "F1-Score: 0.5919232207403714\n",
    "ROC AUC: 0.7238472911822768\n",
    "\n",
    "Con weights:\n",
    "Confusion Matrix:\n",
    " [[27030  7089]\n",
    " [ 2289  7191]]\n",
    "Accuracy: 0.7849033234707218\n",
    "Precision: 0.5035714285714286\n",
    "Recall: 0.7585443037974684\n",
    "F1-Score: 0.6053030303030303\n",
    "ROC AUC: 0.7753857542903635"
   ]
  }
 ],
 "metadata": {
  "kernelspec": {
   "display_name": "Python 3 (ipykernel)",
   "language": "python",
   "name": "python3"
  },
  "language_info": {
   "codemirror_mode": {
    "name": "ipython",
    "version": 3
   },
   "file_extension": ".py",
   "mimetype": "text/x-python",
   "name": "python",
   "nbconvert_exporter": "python",
   "pygments_lexer": "ipython3",
   "version": "3.9.7"
  }
 },
 "nbformat": 4,
 "nbformat_minor": 5
}
