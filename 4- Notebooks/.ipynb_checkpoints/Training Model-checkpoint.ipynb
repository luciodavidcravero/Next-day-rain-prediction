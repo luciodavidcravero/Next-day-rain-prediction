{
 "cells": [
  {
   "cell_type": "markdown",
   "id": "d08b759c",
   "metadata": {},
   "source": [
    "## Rain prediction in Australia"
   ]
  },
  {
   "cell_type": "markdown",
   "id": "a326aeae",
   "metadata": {},
   "source": [
    "#### Import required libraries"
   ]
  },
  {
   "cell_type": "code",
   "execution_count": 1,
   "id": "5bf4efdf",
   "metadata": {},
   "outputs": [],
   "source": [
    "import pandas as pd\n",
    "import numpy as np\n",
    "import seaborn as sns\n",
    "import plotly.express as px\n",
    "import matplotlib.pyplot as plt\n",
    "\n",
    "from statsmodels.stats.outliers_influence import variance_inflation_factor\n",
    "from imblearn.over_sampling import SMOTE\n",
    "\n",
    "import sklearn\n",
    "\n",
    "from sklearn.svm import SVC\n",
    "from sklearn.svm import SVR\n",
    "\n",
    "from sklearn.impute import SimpleImputer\n",
    "\n",
    "from sklearn.ensemble import VotingClassifier\n",
    "from sklearn.ensemble import RandomForestClassifier\n",
    "from sklearn.ensemble import RandomForestRegressor\n",
    "from sklearn.ensemble import GradientBoostingClassifier\n",
    "\n",
    "from sklearn.linear_model import LogisticRegression\n",
    "\n",
    "from sklearn.model_selection import train_test_split\n",
    "\n",
    "from sklearn.preprocessing import MinMaxScaler,OneHotEncoder, LabelEncoder\n",
    "\n",
    "from sklearn.metrics import classification_report, confusion_matrix\n",
    "from sklearn.metrics import accuracy_score,roc_auc_score,precision_score, recall_score, f1_score,ConfusionMatrixDisplay,classification_report\n",
    "from sklearn.metrics import mean_squared_error\n",
    "\n",
    "import optuna\n",
    "\n",
    "import xgboost as xgb\n",
    "from xgboost import XGBClassifier\n",
    "\n",
    "import joblib"
   ]
  },
  {
   "cell_type": "markdown",
   "id": "408fa72b",
   "metadata": {},
   "source": [
    "<br>\n",
    "<br>\n",
    "<br>\n",
    "<br>\n",
    "<br>"
   ]
  },
  {
   "cell_type": "markdown",
   "id": "0d5047e1",
   "metadata": {},
   "source": [
    "#### Read dataset"
   ]
  },
  {
   "cell_type": "code",
   "execution_count": 2,
   "id": "5df197d2",
   "metadata": {},
   "outputs": [
    {
     "data": {
      "text/html": [
       "<div>\n",
       "<style scoped>\n",
       "    .dataframe tbody tr th:only-of-type {\n",
       "        vertical-align: middle;\n",
       "    }\n",
       "\n",
       "    .dataframe tbody tr th {\n",
       "        vertical-align: top;\n",
       "    }\n",
       "\n",
       "    .dataframe thead th {\n",
       "        text-align: right;\n",
       "    }\n",
       "</style>\n",
       "<table border=\"1\" class=\"dataframe\">\n",
       "  <thead>\n",
       "    <tr style=\"text-align: right;\">\n",
       "      <th></th>\n",
       "      <th>Location</th>\n",
       "      <th>Rainfall</th>\n",
       "      <th>WindGustDir</th>\n",
       "      <th>WindGustSpeed</th>\n",
       "      <th>WindDir9am</th>\n",
       "      <th>WindDir3pm</th>\n",
       "      <th>Humidity9am</th>\n",
       "      <th>Humidity3pm</th>\n",
       "      <th>Pressure9am</th>\n",
       "      <th>RainToday</th>\n",
       "      <th>RainTomorrow</th>\n",
       "    </tr>\n",
       "  </thead>\n",
       "  <tbody>\n",
       "    <tr>\n",
       "      <th>0</th>\n",
       "      <td>Albury</td>\n",
       "      <td>0.6</td>\n",
       "      <td>W</td>\n",
       "      <td>44.0</td>\n",
       "      <td>W</td>\n",
       "      <td>WNW</td>\n",
       "      <td>71.0</td>\n",
       "      <td>22.0</td>\n",
       "      <td>1007.7</td>\n",
       "      <td>0.0</td>\n",
       "      <td>0.0</td>\n",
       "    </tr>\n",
       "    <tr>\n",
       "      <th>1</th>\n",
       "      <td>Albury</td>\n",
       "      <td>0.0</td>\n",
       "      <td>WNW</td>\n",
       "      <td>44.0</td>\n",
       "      <td>NNW</td>\n",
       "      <td>WSW</td>\n",
       "      <td>44.0</td>\n",
       "      <td>25.0</td>\n",
       "      <td>1010.6</td>\n",
       "      <td>0.0</td>\n",
       "      <td>0.0</td>\n",
       "    </tr>\n",
       "    <tr>\n",
       "      <th>2</th>\n",
       "      <td>Albury</td>\n",
       "      <td>0.0</td>\n",
       "      <td>WSW</td>\n",
       "      <td>46.0</td>\n",
       "      <td>W</td>\n",
       "      <td>WSW</td>\n",
       "      <td>38.0</td>\n",
       "      <td>30.0</td>\n",
       "      <td>1007.6</td>\n",
       "      <td>0.0</td>\n",
       "      <td>0.0</td>\n",
       "    </tr>\n",
       "    <tr>\n",
       "      <th>3</th>\n",
       "      <td>Albury</td>\n",
       "      <td>0.0</td>\n",
       "      <td>NE</td>\n",
       "      <td>24.0</td>\n",
       "      <td>SE</td>\n",
       "      <td>E</td>\n",
       "      <td>45.0</td>\n",
       "      <td>16.0</td>\n",
       "      <td>1017.6</td>\n",
       "      <td>0.0</td>\n",
       "      <td>0.0</td>\n",
       "    </tr>\n",
       "    <tr>\n",
       "      <th>4</th>\n",
       "      <td>Albury</td>\n",
       "      <td>1.0</td>\n",
       "      <td>W</td>\n",
       "      <td>41.0</td>\n",
       "      <td>ENE</td>\n",
       "      <td>NW</td>\n",
       "      <td>82.0</td>\n",
       "      <td>33.0</td>\n",
       "      <td>1010.8</td>\n",
       "      <td>0.0</td>\n",
       "      <td>0.0</td>\n",
       "    </tr>\n",
       "  </tbody>\n",
       "</table>\n",
       "</div>"
      ],
      "text/plain": [
       "  Location  Rainfall WindGustDir  WindGustSpeed WindDir9am WindDir3pm  \\\n",
       "0   Albury       0.6           W           44.0          W        WNW   \n",
       "1   Albury       0.0         WNW           44.0        NNW        WSW   \n",
       "2   Albury       0.0         WSW           46.0          W        WSW   \n",
       "3   Albury       0.0          NE           24.0         SE          E   \n",
       "4   Albury       1.0           W           41.0        ENE         NW   \n",
       "\n",
       "   Humidity9am  Humidity3pm  Pressure9am  RainToday  RainTomorrow  \n",
       "0         71.0         22.0       1007.7        0.0           0.0  \n",
       "1         44.0         25.0       1010.6        0.0           0.0  \n",
       "2         38.0         30.0       1007.6        0.0           0.0  \n",
       "3         45.0         16.0       1017.6        0.0           0.0  \n",
       "4         82.0         33.0       1010.8        0.0           0.0  "
      ]
     },
     "execution_count": 2,
     "metadata": {},
     "output_type": "execute_result"
    }
   ],
   "source": [
    "dataframe_clean_wo_outl_wo_corr = pd.read_csv(r\"C:\\Users\\Lucio\\Documents\\Github\\Next-day-rain-prediction\\1- Data\\2- Processed\\dataframe_clean_wo_outl_wo_corr.csv\", index_col=0)\n",
    "dataframe_clean_wo_outl_wo_corr.head()"
   ]
  },
  {
   "cell_type": "markdown",
   "id": "59c7d8c7",
   "metadata": {},
   "source": [
    "dataframe_clean_wo_outl_wo_corr characteristics:\n",
    "- Removed univariated outliers\n",
    "- Removed variables with high collinearity"
   ]
  },
  {
   "cell_type": "markdown",
   "id": "8e506872",
   "metadata": {},
   "source": [
    "<br>\n",
    "<br>\n",
    "<br>\n",
    "<br>\n",
    "<br>"
   ]
  },
  {
   "cell_type": "markdown",
   "id": "1f8e8f3f",
   "metadata": {},
   "source": [
    "#### Encode Categorical Features"
   ]
  },
  {
   "cell_type": "code",
   "execution_count": 3,
   "id": "9e803742",
   "metadata": {},
   "outputs": [
    {
     "data": {
      "text/html": [
       "<div>\n",
       "<style scoped>\n",
       "    .dataframe tbody tr th:only-of-type {\n",
       "        vertical-align: middle;\n",
       "    }\n",
       "\n",
       "    .dataframe tbody tr th {\n",
       "        vertical-align: top;\n",
       "    }\n",
       "\n",
       "    .dataframe thead th {\n",
       "        text-align: right;\n",
       "    }\n",
       "</style>\n",
       "<table border=\"1\" class=\"dataframe\">\n",
       "  <thead>\n",
       "    <tr style=\"text-align: right;\">\n",
       "      <th></th>\n",
       "      <th>Rainfall</th>\n",
       "      <th>WindGustSpeed</th>\n",
       "      <th>Humidity9am</th>\n",
       "      <th>Humidity3pm</th>\n",
       "      <th>Pressure9am</th>\n",
       "      <th>RainToday</th>\n",
       "      <th>RainTomorrow</th>\n",
       "      <th>Location_Adelaide</th>\n",
       "      <th>Location_Albany</th>\n",
       "      <th>Location_Albury</th>\n",
       "      <th>...</th>\n",
       "      <th>WindDir3pm_NNW</th>\n",
       "      <th>WindDir3pm_NW</th>\n",
       "      <th>WindDir3pm_S</th>\n",
       "      <th>WindDir3pm_SE</th>\n",
       "      <th>WindDir3pm_SSE</th>\n",
       "      <th>WindDir3pm_SSW</th>\n",
       "      <th>WindDir3pm_SW</th>\n",
       "      <th>WindDir3pm_W</th>\n",
       "      <th>WindDir3pm_WNW</th>\n",
       "      <th>WindDir3pm_WSW</th>\n",
       "    </tr>\n",
       "  </thead>\n",
       "  <tbody>\n",
       "    <tr>\n",
       "      <th>0</th>\n",
       "      <td>0.6</td>\n",
       "      <td>44.0</td>\n",
       "      <td>71.0</td>\n",
       "      <td>22.0</td>\n",
       "      <td>1007.7</td>\n",
       "      <td>0.0</td>\n",
       "      <td>0.0</td>\n",
       "      <td>0</td>\n",
       "      <td>0</td>\n",
       "      <td>1</td>\n",
       "      <td>...</td>\n",
       "      <td>0</td>\n",
       "      <td>0</td>\n",
       "      <td>0</td>\n",
       "      <td>0</td>\n",
       "      <td>0</td>\n",
       "      <td>0</td>\n",
       "      <td>0</td>\n",
       "      <td>0</td>\n",
       "      <td>1</td>\n",
       "      <td>0</td>\n",
       "    </tr>\n",
       "    <tr>\n",
       "      <th>1</th>\n",
       "      <td>0.0</td>\n",
       "      <td>44.0</td>\n",
       "      <td>44.0</td>\n",
       "      <td>25.0</td>\n",
       "      <td>1010.6</td>\n",
       "      <td>0.0</td>\n",
       "      <td>0.0</td>\n",
       "      <td>0</td>\n",
       "      <td>0</td>\n",
       "      <td>1</td>\n",
       "      <td>...</td>\n",
       "      <td>0</td>\n",
       "      <td>0</td>\n",
       "      <td>0</td>\n",
       "      <td>0</td>\n",
       "      <td>0</td>\n",
       "      <td>0</td>\n",
       "      <td>0</td>\n",
       "      <td>0</td>\n",
       "      <td>0</td>\n",
       "      <td>1</td>\n",
       "    </tr>\n",
       "    <tr>\n",
       "      <th>2</th>\n",
       "      <td>0.0</td>\n",
       "      <td>46.0</td>\n",
       "      <td>38.0</td>\n",
       "      <td>30.0</td>\n",
       "      <td>1007.6</td>\n",
       "      <td>0.0</td>\n",
       "      <td>0.0</td>\n",
       "      <td>0</td>\n",
       "      <td>0</td>\n",
       "      <td>1</td>\n",
       "      <td>...</td>\n",
       "      <td>0</td>\n",
       "      <td>0</td>\n",
       "      <td>0</td>\n",
       "      <td>0</td>\n",
       "      <td>0</td>\n",
       "      <td>0</td>\n",
       "      <td>0</td>\n",
       "      <td>0</td>\n",
       "      <td>0</td>\n",
       "      <td>1</td>\n",
       "    </tr>\n",
       "    <tr>\n",
       "      <th>3</th>\n",
       "      <td>0.0</td>\n",
       "      <td>24.0</td>\n",
       "      <td>45.0</td>\n",
       "      <td>16.0</td>\n",
       "      <td>1017.6</td>\n",
       "      <td>0.0</td>\n",
       "      <td>0.0</td>\n",
       "      <td>0</td>\n",
       "      <td>0</td>\n",
       "      <td>1</td>\n",
       "      <td>...</td>\n",
       "      <td>0</td>\n",
       "      <td>0</td>\n",
       "      <td>0</td>\n",
       "      <td>0</td>\n",
       "      <td>0</td>\n",
       "      <td>0</td>\n",
       "      <td>0</td>\n",
       "      <td>0</td>\n",
       "      <td>0</td>\n",
       "      <td>0</td>\n",
       "    </tr>\n",
       "    <tr>\n",
       "      <th>4</th>\n",
       "      <td>1.0</td>\n",
       "      <td>41.0</td>\n",
       "      <td>82.0</td>\n",
       "      <td>33.0</td>\n",
       "      <td>1010.8</td>\n",
       "      <td>0.0</td>\n",
       "      <td>0.0</td>\n",
       "      <td>0</td>\n",
       "      <td>0</td>\n",
       "      <td>1</td>\n",
       "      <td>...</td>\n",
       "      <td>0</td>\n",
       "      <td>1</td>\n",
       "      <td>0</td>\n",
       "      <td>0</td>\n",
       "      <td>0</td>\n",
       "      <td>0</td>\n",
       "      <td>0</td>\n",
       "      <td>0</td>\n",
       "      <td>0</td>\n",
       "      <td>0</td>\n",
       "    </tr>\n",
       "  </tbody>\n",
       "</table>\n",
       "<p>5 rows × 104 columns</p>\n",
       "</div>"
      ],
      "text/plain": [
       "   Rainfall  WindGustSpeed  Humidity9am  Humidity3pm  Pressure9am  RainToday  \\\n",
       "0       0.6           44.0         71.0         22.0       1007.7        0.0   \n",
       "1       0.0           44.0         44.0         25.0       1010.6        0.0   \n",
       "2       0.0           46.0         38.0         30.0       1007.6        0.0   \n",
       "3       0.0           24.0         45.0         16.0       1017.6        0.0   \n",
       "4       1.0           41.0         82.0         33.0       1010.8        0.0   \n",
       "\n",
       "   RainTomorrow  Location_Adelaide  Location_Albany  Location_Albury  ...  \\\n",
       "0           0.0                  0                0                1  ...   \n",
       "1           0.0                  0                0                1  ...   \n",
       "2           0.0                  0                0                1  ...   \n",
       "3           0.0                  0                0                1  ...   \n",
       "4           0.0                  0                0                1  ...   \n",
       "\n",
       "   WindDir3pm_NNW  WindDir3pm_NW  WindDir3pm_S  WindDir3pm_SE  WindDir3pm_SSE  \\\n",
       "0               0              0             0              0               0   \n",
       "1               0              0             0              0               0   \n",
       "2               0              0             0              0               0   \n",
       "3               0              0             0              0               0   \n",
       "4               0              1             0              0               0   \n",
       "\n",
       "   WindDir3pm_SSW  WindDir3pm_SW  WindDir3pm_W  WindDir3pm_WNW  WindDir3pm_WSW  \n",
       "0               0              0             0               1               0  \n",
       "1               0              0             0               0               1  \n",
       "2               0              0             0               0               1  \n",
       "3               0              0             0               0               0  \n",
       "4               0              0             0               0               0  \n",
       "\n",
       "[5 rows x 104 columns]"
      ]
     },
     "execution_count": 3,
     "metadata": {},
     "output_type": "execute_result"
    }
   ],
   "source": [
    "dataframe_encoded = pd.get_dummies(dataframe_clean_wo_outl_wo_corr)\n",
    "dataframe_encoded.head()"
   ]
  },
  {
   "cell_type": "markdown",
   "id": "d587c530",
   "metadata": {},
   "source": [
    "<br>\n",
    "<br>\n",
    "<br>\n",
    "<br>\n",
    "<br>"
   ]
  },
  {
   "cell_type": "markdown",
   "id": "9cb19259",
   "metadata": {},
   "source": [
    "### Model Tranining"
   ]
  },
  {
   "cell_type": "code",
   "execution_count": 4,
   "id": "24797604",
   "metadata": {},
   "outputs": [],
   "source": [
    "#Create X and y dataframes\n",
    "X = dataframe_encoded[[c for c in dataframe_encoded if c != 'RainTomorrow']].values\n",
    "y = dataframe_encoded[['RainTomorrow']]"
   ]
  },
  {
   "cell_type": "code",
   "execution_count": 5,
   "id": "0e775f7c",
   "metadata": {},
   "outputs": [],
   "source": [
    "X_train, X_val, y_train, y_val = sklearn.model_selection.train_test_split(X, y,random_state=0, test_size=0.30)"
   ]
  },
  {
   "cell_type": "code",
   "execution_count": 7,
   "id": "05867c50",
   "metadata": {},
   "outputs": [],
   "source": [
    "def objective_xgb(trial):\n",
    "    param = {\n",
    "        \"verbosity\": 1,\n",
    "        \"objective\": \"binary:logistic\",\n",
    "        \"booster\": trial.suggest_categorical(\"booster\", [\"gbtree\"]),\n",
    "        \"lambda\": trial.suggest_float(\"lambda\", 1e-8, 1.0, log=True),\n",
    "        \"alpha\": trial.suggest_float(\"alpha\", 1e-8, 1.0, log=True),\n",
    "        'eval_metric': 'error',\n",
    "    }\n",
    "\n",
    "    #param[\"booster\"] == \"gbtree\"\n",
    "    param[\"subsample\"] = trial.suggest_float(\"subsample\", 1e-8, 1.0, log=True)\n",
    "    param[\"n_estimators\"] = trial.suggest_int(\"n_estimators\", 1, 1000)        \n",
    "    param[\"max_depth\"] = trial.suggest_int(\"max_depth\", 1, 64)\n",
    "    param[\"eta\"] = trial.suggest_float(\"eta\", 1e-8, 1.0, log=True)\n",
    "    param[\"gamma\"] = trial.suggest_float(\"gamma\", 1e-8, 1.0, log=True)\n",
    "    param[\"grow_policy\"] = trial.suggest_categorical(\"grow_policy\", [\"depthwise\", \"lossguide\"])\n",
    "\n",
    "    bst = xgb.XGBClassifier(**param)\n",
    "    bst.fit(X_train, y_train)\n",
    "\n",
    "    y_pred = bst.predict(X_val)\n",
    "    accuracy = sklearn.metrics.accuracy_score(y_val, y_pred)\n",
    "\n",
    "    return -accuracy  #Negative accuracy to maximize it (because 'eval_metric': 'error')"
   ]
  },
  {
   "cell_type": "markdown",
   "id": "3bb3b4f0",
   "metadata": {},
   "source": [
    "#### Applying StandardScaler"
   ]
  },
  {
   "cell_type": "code",
   "execution_count": 8,
   "id": "0e9725a0",
   "metadata": {},
   "outputs": [],
   "source": [
    "sc_X = MinMaxScaler()\n",
    "sc_y = MinMaxScaler()\n",
    "X_sc = sc_X.fit_transform(X)\n",
    "y_sc = sc_y.fit_transform(y)"
   ]
  },
  {
   "cell_type": "code",
   "execution_count": 9,
   "id": "8934496d",
   "metadata": {},
   "outputs": [],
   "source": [
    "X_sc_train, X_sc_val, y_sc_train, y_sc_val = sklearn.model_selection.train_test_split(X_sc, y_sc, random_state=0, test_size=0.30)"
   ]
  },
  {
   "cell_type": "markdown",
   "id": "84897856",
   "metadata": {},
   "source": [
    "#### Hyperparameter optimization with Optuna"
   ]
  },
  {
   "cell_type": "code",
   "execution_count": 10,
   "id": "dbeb5158",
   "metadata": {},
   "outputs": [
    {
     "name": "stderr",
     "output_type": "stream",
     "text": [
      "[I 2023-11-22 20:00:08,143] A new study created in memory with name: no-name-239eaaca-bec9-40d5-95af-5fc353ac8417\n",
      "[I 2023-11-22 20:01:17,621] Trial 0 finished with value: -0.8242849606642354 and parameters: {'booster': 'gbtree', 'lambda': 7.545295590749144e-08, 'alpha': 0.6000440389410776, 'subsample': 0.8548783932123012, 'n_estimators': 759, 'max_depth': 2, 'eta': 3.097424724587213e-06, 'gamma': 2.1784690775011526e-08, 'grow_policy': 'lossguide'}. Best is trial 0 with value: -0.8242849606642354.\n",
      "[I 2023-11-22 20:02:53,315] Trial 1 finished with value: -0.8422899607789169 and parameters: {'booster': 'gbtree', 'lambda': 0.342177913176916, 'alpha': 0.005949996343455195, 'subsample': 0.007229586354650772, 'n_estimators': 595, 'max_depth': 9, 'eta': 9.834271555196803e-05, 'gamma': 2.8880918753160445e-05, 'grow_policy': 'depthwise'}. Best is trial 1 with value: -0.8422899607789169.\n",
      "[I 2023-11-22 20:10:31,839] Trial 2 finished with value: -0.8477258652721392 and parameters: {'booster': 'gbtree', 'lambda': 2.2422762510480458e-08, 'alpha': 0.05717485027331021, 'subsample': 0.44911217739977166, 'n_estimators': 330, 'max_depth': 25, 'eta': 2.5640507687774038e-05, 'gamma': 3.913415142225531e-06, 'grow_policy': 'lossguide'}. Best is trial 2 with value: -0.8477258652721392.\n",
      "[I 2023-11-22 20:11:16,796] Trial 3 finished with value: -0.8339640817449941 and parameters: {'booster': 'gbtree', 'lambda': 0.6330767535065587, 'alpha': 0.002256136527277882, 'subsample': 0.0004957339385449929, 'n_estimators': 537, 'max_depth': 44, 'eta': 1.7685273194086596e-05, 'gamma': 0.026299307989389332, 'grow_policy': 'lossguide'}. Best is trial 2 with value: -0.8477258652721392.\n",
      "[I 2023-11-22 20:11:21,660] Trial 4 finished with value: -0.7825638202711072 and parameters: {'booster': 'gbtree', 'lambda': 0.45690462784109287, 'alpha': 1.0665232549194682e-05, 'subsample': 1.0538357086401381e-07, 'n_estimators': 77, 'max_depth': 52, 'eta': 0.1733635931958523, 'gamma': 0.009728579680065439, 'grow_policy': 'lossguide'}. Best is trial 2 with value: -0.8477258652721392.\n",
      "[I 2023-11-22 20:11:31,598] Trial 5 finished with value: -0.7825638202711072 and parameters: {'booster': 'gbtree', 'lambda': 0.30922384470910447, 'alpha': 0.00032986119325333833, 'subsample': 3.855968898189694e-08, 'n_estimators': 227, 'max_depth': 20, 'eta': 0.018463402183124266, 'gamma': 0.05502710939723625, 'grow_policy': 'depthwise'}. Best is trial 2 with value: -0.8477258652721392.\n",
      "[I 2023-11-22 20:11:56,893] Trial 6 finished with value: -0.7825638202711072 and parameters: {'booster': 'gbtree', 'lambda': 3.189026518922019e-05, 'alpha': 3.737991404378304e-05, 'subsample': 4.291687634038908e-05, 'n_estimators': 556, 'max_depth': 8, 'eta': 9.805761186179275e-06, 'gamma': 0.0018687684444744046, 'grow_policy': 'lossguide'}. Best is trial 2 with value: -0.8477258652721392.\n",
      "[I 2023-11-22 20:17:18,345] Trial 7 finished with value: -0.8520378907773114 and parameters: {'booster': 'gbtree', 'lambda': 0.00012590745625659945, 'alpha': 0.0027868967368774207, 'subsample': 0.9232800553773376, 'n_estimators': 379, 'max_depth': 21, 'eta': 0.030538597049319792, 'gamma': 0.001118029638832503, 'grow_policy': 'lossguide'}. Best is trial 7 with value: -0.8520378907773114.\n",
      "[I 2023-11-22 20:17:31,611] Trial 8 finished with value: -0.7825638202711072 and parameters: {'booster': 'gbtree', 'lambda': 2.3055358884385272e-08, 'alpha': 7.629470423646164e-08, 'subsample': 1.7601597481535383e-07, 'n_estimators': 313, 'max_depth': 51, 'eta': 0.00029754251675761205, 'gamma': 3.541857760160107e-08, 'grow_policy': 'depthwise'}. Best is trial 7 with value: -0.8520378907773114.\n",
      "[I 2023-11-22 20:27:51,832] Trial 9 finished with value: -0.8458221518842175 and parameters: {'booster': 'gbtree', 'lambda': 0.027977766935359482, 'alpha': 3.037010056124472e-08, 'subsample': 0.08305887073564602, 'n_estimators': 935, 'max_depth': 50, 'eta': 1.0654371119418672e-06, 'gamma': 4.724132262335898e-06, 'grow_policy': 'lossguide'}. Best is trial 7 with value: -0.8520378907773114.\n"
     ]
    },
    {
     "data": {
      "text/plain": [
       "{'booster': 'gbtree',\n",
       " 'lambda': 0.00012590745625659945,\n",
       " 'alpha': 0.0027868967368774207,\n",
       " 'subsample': 0.9232800553773376,\n",
       " 'n_estimators': 379,\n",
       " 'max_depth': 21,\n",
       " 'eta': 0.030538597049319792,\n",
       " 'gamma': 0.001118029638832503,\n",
       " 'grow_policy': 'lossguide'}"
      ]
     },
     "execution_count": 10,
     "metadata": {},
     "output_type": "execute_result"
    }
   ],
   "source": [
    "study_xgb = optuna.create_study()\n",
    "study_xgb.optimize(objective_xgb, n_trials=10)\n",
    "study_xgb.best_params"
   ]
  },
  {
   "cell_type": "code",
   "execution_count": 11,
   "id": "16390390",
   "metadata": {},
   "outputs": [
    {
     "data": {
      "text/plain": [
       "{'booster': 'gbtree',\n",
       " 'lambda': 0.00012590745625659945,\n",
       " 'alpha': 0.0027868967368774207,\n",
       " 'subsample': 0.9232800553773376,\n",
       " 'n_estimators': 379,\n",
       " 'max_depth': 21,\n",
       " 'eta': 0.030538597049319792,\n",
       " 'gamma': 0.001118029638832503,\n",
       " 'grow_policy': 'lossguide'}"
      ]
     },
     "execution_count": 11,
     "metadata": {},
     "output_type": "execute_result"
    }
   ],
   "source": [
    "xgb_params = study_xgb.best_params\n",
    "xgb_params"
   ]
  },
  {
   "cell_type": "markdown",
   "id": "bb7ec7a5",
   "metadata": {},
   "source": [
    "#### Train model using best parameters"
   ]
  },
  {
   "cell_type": "code",
   "execution_count": 12,
   "id": "a4843392",
   "metadata": {},
   "outputs": [
    {
     "name": "stderr",
     "output_type": "stream",
     "text": [
      "C:\\Users\\Lucio\\miniconda3\\lib\\site-packages\\xgboost\\sklearn.py:793: UserWarning: `early_stopping_rounds` in `fit` method is deprecated for better compatibility with scikit-learn, use `early_stopping_rounds` in constructor or`set_params` instead.\n",
      "  warnings.warn(\n"
     ]
    },
    {
     "name": "stdout",
     "output_type": "stream",
     "text": [
      "[20:27:52] WARNING: C:/Users/administrator/workspace/xgboost-win64_release_1.6.0/src/learner.cc:627: \n",
      "Parameters: { \"silent\" } might not be used.\n",
      "\n",
      "  This could be a false alarm, with some parameters getting used by language bindings but\n",
      "  then being mistakenly passed down to XGBoost core, or some parameter actually being used\n",
      "  but getting flagged wrongly here. Please open an issue if you find any such cases.\n",
      "\n",
      "\n",
      "[0]\tvalidation_0-logloss:0.67630\n",
      "[1]\tvalidation_0-logloss:0.66050\n",
      "[2]\tvalidation_0-logloss:0.64566\n",
      "[3]\tvalidation_0-logloss:0.63158\n",
      "[4]\tvalidation_0-logloss:0.61825\n",
      "[5]\tvalidation_0-logloss:0.60567\n",
      "[6]\tvalidation_0-logloss:0.59384\n",
      "[7]\tvalidation_0-logloss:0.58261\n",
      "[8]\tvalidation_0-logloss:0.57198\n",
      "[9]\tvalidation_0-logloss:0.56192\n",
      "[10]\tvalidation_0-logloss:0.55232\n",
      "[11]\tvalidation_0-logloss:0.54323\n",
      "[12]\tvalidation_0-logloss:0.53473\n",
      "[13]\tvalidation_0-logloss:0.52644\n",
      "[14]\tvalidation_0-logloss:0.51862\n",
      "[15]\tvalidation_0-logloss:0.51126\n",
      "[16]\tvalidation_0-logloss:0.50420\n",
      "[17]\tvalidation_0-logloss:0.49747\n",
      "[18]\tvalidation_0-logloss:0.49101\n",
      "[19]\tvalidation_0-logloss:0.48488\n",
      "[20]\tvalidation_0-logloss:0.47900\n",
      "[21]\tvalidation_0-logloss:0.47339\n",
      "[22]\tvalidation_0-logloss:0.46809\n",
      "[23]\tvalidation_0-logloss:0.46304\n",
      "[24]\tvalidation_0-logloss:0.45815\n",
      "[25]\tvalidation_0-logloss:0.45354\n",
      "[26]\tvalidation_0-logloss:0.44914\n",
      "[27]\tvalidation_0-logloss:0.44495\n",
      "[28]\tvalidation_0-logloss:0.44094\n",
      "[29]\tvalidation_0-logloss:0.43711\n",
      "[30]\tvalidation_0-logloss:0.43343\n",
      "[31]\tvalidation_0-logloss:0.42984\n",
      "[32]\tvalidation_0-logloss:0.42647\n",
      "[33]\tvalidation_0-logloss:0.42322\n",
      "[34]\tvalidation_0-logloss:0.42016\n",
      "[35]\tvalidation_0-logloss:0.41724\n",
      "[36]\tvalidation_0-logloss:0.41442\n",
      "[37]\tvalidation_0-logloss:0.41172\n",
      "[38]\tvalidation_0-logloss:0.40914\n",
      "[39]\tvalidation_0-logloss:0.40672\n",
      "[40]\tvalidation_0-logloss:0.40433\n",
      "[41]\tvalidation_0-logloss:0.40212\n",
      "[42]\tvalidation_0-logloss:0.39997\n",
      "[43]\tvalidation_0-logloss:0.39789\n",
      "[44]\tvalidation_0-logloss:0.39588\n",
      "[45]\tvalidation_0-logloss:0.39402\n",
      "[46]\tvalidation_0-logloss:0.39219\n",
      "[47]\tvalidation_0-logloss:0.39043\n",
      "[48]\tvalidation_0-logloss:0.38874\n",
      "[49]\tvalidation_0-logloss:0.38714\n",
      "[50]\tvalidation_0-logloss:0.38564\n",
      "[51]\tvalidation_0-logloss:0.38427\n",
      "[52]\tvalidation_0-logloss:0.38289\n",
      "[53]\tvalidation_0-logloss:0.38153\n",
      "[54]\tvalidation_0-logloss:0.38023\n",
      "[55]\tvalidation_0-logloss:0.37901\n",
      "[56]\tvalidation_0-logloss:0.37784\n",
      "[57]\tvalidation_0-logloss:0.37675\n",
      "[58]\tvalidation_0-logloss:0.37572\n",
      "[59]\tvalidation_0-logloss:0.37471\n",
      "[60]\tvalidation_0-logloss:0.37377\n",
      "[61]\tvalidation_0-logloss:0.37287\n",
      "[62]\tvalidation_0-logloss:0.37203\n",
      "[63]\tvalidation_0-logloss:0.37118\n",
      "[64]\tvalidation_0-logloss:0.37041\n",
      "[65]\tvalidation_0-logloss:0.36967\n",
      "[66]\tvalidation_0-logloss:0.36896\n",
      "[67]\tvalidation_0-logloss:0.36827\n",
      "[68]\tvalidation_0-logloss:0.36759\n",
      "[69]\tvalidation_0-logloss:0.36695\n",
      "[70]\tvalidation_0-logloss:0.36634\n",
      "[71]\tvalidation_0-logloss:0.36581\n",
      "[72]\tvalidation_0-logloss:0.36531\n",
      "[73]\tvalidation_0-logloss:0.36480\n",
      "[74]\tvalidation_0-logloss:0.36430\n",
      "[75]\tvalidation_0-logloss:0.36386\n",
      "[76]\tvalidation_0-logloss:0.36345\n",
      "[77]\tvalidation_0-logloss:0.36300\n",
      "[78]\tvalidation_0-logloss:0.36259\n",
      "[79]\tvalidation_0-logloss:0.36226\n",
      "[80]\tvalidation_0-logloss:0.36192\n",
      "[81]\tvalidation_0-logloss:0.36159\n",
      "[82]\tvalidation_0-logloss:0.36126\n",
      "[83]\tvalidation_0-logloss:0.36096\n",
      "[84]\tvalidation_0-logloss:0.36067\n",
      "[85]\tvalidation_0-logloss:0.36039\n",
      "[86]\tvalidation_0-logloss:0.36014\n",
      "[87]\tvalidation_0-logloss:0.35991\n",
      "[88]\tvalidation_0-logloss:0.35973\n",
      "[89]\tvalidation_0-logloss:0.35951\n",
      "[90]\tvalidation_0-logloss:0.35930\n",
      "[91]\tvalidation_0-logloss:0.35913\n",
      "[92]\tvalidation_0-logloss:0.35890\n",
      "[93]\tvalidation_0-logloss:0.35871\n",
      "[94]\tvalidation_0-logloss:0.35856\n",
      "[95]\tvalidation_0-logloss:0.35851\n",
      "[96]\tvalidation_0-logloss:0.35834\n",
      "[97]\tvalidation_0-logloss:0.35825\n",
      "[98]\tvalidation_0-logloss:0.35815\n",
      "[99]\tvalidation_0-logloss:0.35808\n",
      "[100]\tvalidation_0-logloss:0.35797\n",
      "[101]\tvalidation_0-logloss:0.35788\n",
      "[102]\tvalidation_0-logloss:0.35778\n",
      "[103]\tvalidation_0-logloss:0.35774\n",
      "[104]\tvalidation_0-logloss:0.35769\n",
      "[105]\tvalidation_0-logloss:0.35768\n",
      "[106]\tvalidation_0-logloss:0.35763\n",
      "[107]\tvalidation_0-logloss:0.35756\n",
      "[108]\tvalidation_0-logloss:0.35749\n",
      "[109]\tvalidation_0-logloss:0.35746\n",
      "[110]\tvalidation_0-logloss:0.35739\n",
      "[111]\tvalidation_0-logloss:0.35740\n",
      "[112]\tvalidation_0-logloss:0.35739\n",
      "[113]\tvalidation_0-logloss:0.35736\n",
      "[114]\tvalidation_0-logloss:0.35732\n",
      "[115]\tvalidation_0-logloss:0.35731\n",
      "[116]\tvalidation_0-logloss:0.35734\n",
      "[117]\tvalidation_0-logloss:0.35738\n",
      "[118]\tvalidation_0-logloss:0.35737\n",
      "[119]\tvalidation_0-logloss:0.35743\n",
      "[120]\tvalidation_0-logloss:0.35746\n",
      "[121]\tvalidation_0-logloss:0.35748\n",
      "[122]\tvalidation_0-logloss:0.35748\n",
      "[123]\tvalidation_0-logloss:0.35747\n",
      "[124]\tvalidation_0-logloss:0.35749\n",
      "[125]\tvalidation_0-logloss:0.35756\n"
     ]
    },
    {
     "data": {
      "text/html": [
       "<style>#sk-container-id-1 {color: black;background-color: white;}#sk-container-id-1 pre{padding: 0;}#sk-container-id-1 div.sk-toggleable {background-color: white;}#sk-container-id-1 label.sk-toggleable__label {cursor: pointer;display: block;width: 100%;margin-bottom: 0;padding: 0.3em;box-sizing: border-box;text-align: center;}#sk-container-id-1 label.sk-toggleable__label-arrow:before {content: \"▸\";float: left;margin-right: 0.25em;color: #696969;}#sk-container-id-1 label.sk-toggleable__label-arrow:hover:before {color: black;}#sk-container-id-1 div.sk-estimator:hover label.sk-toggleable__label-arrow:before {color: black;}#sk-container-id-1 div.sk-toggleable__content {max-height: 0;max-width: 0;overflow: hidden;text-align: left;background-color: #f0f8ff;}#sk-container-id-1 div.sk-toggleable__content pre {margin: 0.2em;color: black;border-radius: 0.25em;background-color: #f0f8ff;}#sk-container-id-1 input.sk-toggleable__control:checked~div.sk-toggleable__content {max-height: 200px;max-width: 100%;overflow: auto;}#sk-container-id-1 input.sk-toggleable__control:checked~label.sk-toggleable__label-arrow:before {content: \"▾\";}#sk-container-id-1 div.sk-estimator input.sk-toggleable__control:checked~label.sk-toggleable__label {background-color: #d4ebff;}#sk-container-id-1 div.sk-label input.sk-toggleable__control:checked~label.sk-toggleable__label {background-color: #d4ebff;}#sk-container-id-1 input.sk-hidden--visually {border: 0;clip: rect(1px 1px 1px 1px);clip: rect(1px, 1px, 1px, 1px);height: 1px;margin: -1px;overflow: hidden;padding: 0;position: absolute;width: 1px;}#sk-container-id-1 div.sk-estimator {font-family: monospace;background-color: #f0f8ff;border: 1px dotted black;border-radius: 0.25em;box-sizing: border-box;margin-bottom: 0.5em;}#sk-container-id-1 div.sk-estimator:hover {background-color: #d4ebff;}#sk-container-id-1 div.sk-parallel-item::after {content: \"\";width: 100%;border-bottom: 1px solid gray;flex-grow: 1;}#sk-container-id-1 div.sk-label:hover label.sk-toggleable__label {background-color: #d4ebff;}#sk-container-id-1 div.sk-serial::before {content: \"\";position: absolute;border-left: 1px solid gray;box-sizing: border-box;top: 0;bottom: 0;left: 50%;z-index: 0;}#sk-container-id-1 div.sk-serial {display: flex;flex-direction: column;align-items: center;background-color: white;padding-right: 0.2em;padding-left: 0.2em;position: relative;}#sk-container-id-1 div.sk-item {position: relative;z-index: 1;}#sk-container-id-1 div.sk-parallel {display: flex;align-items: stretch;justify-content: center;background-color: white;position: relative;}#sk-container-id-1 div.sk-item::before, #sk-container-id-1 div.sk-parallel-item::before {content: \"\";position: absolute;border-left: 1px solid gray;box-sizing: border-box;top: 0;bottom: 0;left: 50%;z-index: -1;}#sk-container-id-1 div.sk-parallel-item {display: flex;flex-direction: column;z-index: 1;position: relative;background-color: white;}#sk-container-id-1 div.sk-parallel-item:first-child::after {align-self: flex-end;width: 50%;}#sk-container-id-1 div.sk-parallel-item:last-child::after {align-self: flex-start;width: 50%;}#sk-container-id-1 div.sk-parallel-item:only-child::after {width: 0;}#sk-container-id-1 div.sk-dashed-wrapped {border: 1px dashed gray;margin: 0 0.4em 0.5em 0.4em;box-sizing: border-box;padding-bottom: 0.4em;background-color: white;}#sk-container-id-1 div.sk-label label {font-family: monospace;font-weight: bold;display: inline-block;line-height: 1.2em;}#sk-container-id-1 div.sk-label-container {text-align: center;}#sk-container-id-1 div.sk-container {/* jupyter's `normalize.less` sets `[hidden] { display: none; }` but bootstrap.min.css set `[hidden] { display: none !important; }` so we also need the `!important` here to be able to override the default hidden behavior on the sphinx rendered scikit-learn.org. See: https://github.com/scikit-learn/scikit-learn/issues/21755 */display: inline-block !important;position: relative;}#sk-container-id-1 div.sk-text-repr-fallback {display: none;}</style><div id=\"sk-container-id-1\" class=\"sk-top-container\"><div class=\"sk-text-repr-fallback\"><pre>XGBClassifier(alpha=0.0027868967368774207, base_score=0.5, booster=&#x27;gbtree&#x27;,\n",
       "              callbacks=None, colsample_bylevel=1, colsample_bynode=1,\n",
       "              colsample_bytree=1, early_stopping_rounds=None,\n",
       "              enable_categorical=False, eta=0.030538597049319792,\n",
       "              eval_metric=None, gamma=0.001118029638832503, gpu_id=-1,\n",
       "              grow_policy=&#x27;lossguide&#x27;, importance_type=None,\n",
       "              interaction_constraints=&#x27;&#x27;, lambda=0.00012590745625659945,\n",
       "              learning_rate=0.0305385962, max_bin=256, max_cat_to_onehot=4,\n",
       "              max_delta_step=0, max_depth=21, max_leaves=0, min_child_weight=1,\n",
       "              missing=nan, monotone_constraints=&#x27;()&#x27;, n_estimators=379,\n",
       "              n_jobs=0, num_parallel_tree=1, predictor=&#x27;auto&#x27;, ...)</pre><b>In a Jupyter environment, please rerun this cell to show the HTML representation or trust the notebook. <br />On GitHub, the HTML representation is unable to render, please try loading this page with nbviewer.org.</b></div><div class=\"sk-container\" hidden><div class=\"sk-item\"><div class=\"sk-estimator sk-toggleable\"><input class=\"sk-toggleable__control sk-hidden--visually\" id=\"sk-estimator-id-1\" type=\"checkbox\" checked><label for=\"sk-estimator-id-1\" class=\"sk-toggleable__label sk-toggleable__label-arrow\">XGBClassifier</label><div class=\"sk-toggleable__content\"><pre>XGBClassifier(alpha=0.0027868967368774207, base_score=0.5, booster=&#x27;gbtree&#x27;,\n",
       "              callbacks=None, colsample_bylevel=1, colsample_bynode=1,\n",
       "              colsample_bytree=1, early_stopping_rounds=None,\n",
       "              enable_categorical=False, eta=0.030538597049319792,\n",
       "              eval_metric=None, gamma=0.001118029638832503, gpu_id=-1,\n",
       "              grow_policy=&#x27;lossguide&#x27;, importance_type=None,\n",
       "              interaction_constraints=&#x27;&#x27;, lambda=0.00012590745625659945,\n",
       "              learning_rate=0.0305385962, max_bin=256, max_cat_to_onehot=4,\n",
       "              max_delta_step=0, max_depth=21, max_leaves=0, min_child_weight=1,\n",
       "              missing=nan, monotone_constraints=&#x27;()&#x27;, n_estimators=379,\n",
       "              n_jobs=0, num_parallel_tree=1, predictor=&#x27;auto&#x27;, ...)</pre></div></div></div></div></div>"
      ],
      "text/plain": [
       "XGBClassifier(alpha=0.0027868967368774207, base_score=0.5, booster='gbtree',\n",
       "              callbacks=None, colsample_bylevel=1, colsample_bynode=1,\n",
       "              colsample_bytree=1, early_stopping_rounds=None,\n",
       "              enable_categorical=False, eta=0.030538597049319792,\n",
       "              eval_metric=None, gamma=0.001118029638832503, gpu_id=-1,\n",
       "              grow_policy='lossguide', importance_type=None,\n",
       "              interaction_constraints='', lambda=0.00012590745625659945,\n",
       "              learning_rate=0.0305385962, max_bin=256, max_cat_to_onehot=4,\n",
       "              max_delta_step=0, max_depth=21, max_leaves=0, min_child_weight=1,\n",
       "              missing=nan, monotone_constraints='()', n_estimators=379,\n",
       "              n_jobs=0, num_parallel_tree=1, predictor='auto', ...)"
      ]
     },
     "execution_count": 12,
     "metadata": {},
     "output_type": "execute_result"
    }
   ],
   "source": [
    "model = XGBClassifier(**xgb_params, silent=0)\n",
    "\n",
    "model.fit(X_sc_train, y_sc_train, eval_set=[(X_sc_val, y_sc_val)], early_stopping_rounds=10, verbose=True)"
   ]
  },
  {
   "cell_type": "markdown",
   "id": "e67867cd",
   "metadata": {},
   "source": [
    "#### Predict using validation dataset"
   ]
  },
  {
   "cell_type": "code",
   "execution_count": 13,
   "id": "582e0f74",
   "metadata": {},
   "outputs": [
    {
     "data": {
      "text/plain": [
       "array([0, 0, 0, ..., 1, 0, 0])"
      ]
     },
     "execution_count": 13,
     "metadata": {},
     "output_type": "execute_result"
    }
   ],
   "source": [
    "y_predicted = model.predict(X_sc_val)\n",
    "y_predicted"
   ]
  },
  {
   "cell_type": "markdown",
   "id": "598b9ba9",
   "metadata": {},
   "source": [
    "#### Model performance evaluation"
   ]
  },
  {
   "cell_type": "code",
   "execution_count": 14,
   "id": "0fe12133",
   "metadata": {},
   "outputs": [
    {
     "name": "stdout",
     "output_type": "stream",
     "text": [
      "Confusion Matrix:\n",
      " [[32302  1817]\n",
      " [ 4731  4749]]\n",
      "Accuracy: 0.8498130691070896\n",
      "Precision: 0.7232713981114834\n",
      "Recall: 0.5009493670886076\n",
      "F1-Score: 0.5919232207403714\n",
      "ROC AUC: 0.7238472911822768\n"
     ]
    }
   ],
   "source": [
    "conf_matrix = confusion_matrix(y_sc_val, y_predicted)\n",
    "\n",
    "accuracy = accuracy_score(y_sc_val, y_predicted)\n",
    "precision = precision_score(y_sc_val, y_predicted)\n",
    "recall = recall_score(y_sc_val, y_predicted)\n",
    "f1 = f1_score(y_sc_val, y_predicted)\n",
    "roc_auc = roc_auc_score(y_sc_val, y_predicted)\n",
    "\n",
    "print(\"Confusion Matrix:\\n\", conf_matrix)\n",
    "print(\"Accuracy:\", accuracy)\n",
    "print(\"Precision:\", precision)\n",
    "print(\"Recall:\", recall)\n",
    "print(\"F1-Score:\", f1)\n",
    "print(\"ROC AUC:\", roc_auc)"
   ]
  },
  {
   "cell_type": "markdown",
   "id": "04caffba",
   "metadata": {},
   "source": [
    "#### Save model"
   ]
  },
  {
   "cell_type": "code",
   "execution_count": 16,
   "id": "d1828748",
   "metadata": {},
   "outputs": [
    {
     "data": {
      "text/plain": [
       "['C:\\\\Users\\\\Lucio\\\\Documents\\\\Github\\\\Next-day-rain-prediction\\\\3- Models/XGBClf_rain_pred.joblib']"
      ]
     },
     "execution_count": 16,
     "metadata": {},
     "output_type": "execute_result"
    }
   ],
   "source": [
    "ubi = r'C:\\Users\\Lucio\\Documents\\Github\\Next-day-rain-prediction\\3- Models/XGBClf_rain_pred.joblib'\n",
    "\n",
    "joblib.dump(model, ubi)"
   ]
  }
 ],
 "metadata": {
  "kernelspec": {
   "display_name": "Python 3 (ipykernel)",
   "language": "python",
   "name": "python3"
  },
  "language_info": {
   "codemirror_mode": {
    "name": "ipython",
    "version": 3
   },
   "file_extension": ".py",
   "mimetype": "text/x-python",
   "name": "python",
   "nbconvert_exporter": "python",
   "pygments_lexer": "ipython3",
   "version": "3.9.7"
  }
 },
 "nbformat": 4,
 "nbformat_minor": 5
}
